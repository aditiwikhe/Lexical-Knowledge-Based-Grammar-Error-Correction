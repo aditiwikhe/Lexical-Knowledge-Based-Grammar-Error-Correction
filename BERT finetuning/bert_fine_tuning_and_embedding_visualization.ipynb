{
  "cells": [
    {
      "cell_type": "markdown",
      "metadata": {
        "id": "SmOUzwenV8o5"
      },
      "source": [
        "## Setup"
      ]
    },
    {
      "cell_type": "code",
      "execution_count": 3,
      "metadata": {
        "id": "K-mR_RgA1sg1"
      },
      "outputs": [],
      "source": [
        "#!pip install pytorch_pretrained_bert"
      ]
    },
    {
      "cell_type": "code",
      "execution_count": 4,
      "metadata": {
        "colab": {
          "base_uri": "https://localhost:8080/"
        },
        "id": "Q4YARaXLV3Na",
        "outputId": "fae02a68-cea0-4973-80ec-bd8b7125340d"
      },
      "outputs": [
        {
          "output_type": "stream",
          "name": "stdout",
          "text": [
            "Looking in indexes: https://pypi.org/simple, https://us-python.pkg.dev/colab-wheels/public/simple/\n",
            "Collecting transformers\n",
            "  Downloading transformers-4.25.1-py3-none-any.whl (5.8 MB)\n",
            "\u001b[K     |████████████████████████████████| 5.8 MB 5.1 MB/s \n",
            "\u001b[?25hRequirement already satisfied: requests in /usr/local/lib/python3.8/dist-packages (from transformers) (2.23.0)\n",
            "Collecting tokenizers!=0.11.3,<0.14,>=0.11.1\n",
            "  Downloading tokenizers-0.13.2-cp38-cp38-manylinux_2_17_x86_64.manylinux2014_x86_64.whl (7.6 MB)\n",
            "\u001b[K     |████████████████████████████████| 7.6 MB 63.3 MB/s \n",
            "\u001b[?25hRequirement already satisfied: pyyaml>=5.1 in /usr/local/lib/python3.8/dist-packages (from transformers) (6.0)\n",
            "Requirement already satisfied: numpy>=1.17 in /usr/local/lib/python3.8/dist-packages (from transformers) (1.21.6)\n",
            "Requirement already satisfied: tqdm>=4.27 in /usr/local/lib/python3.8/dist-packages (from transformers) (4.64.1)\n",
            "Collecting huggingface-hub<1.0,>=0.10.0\n",
            "  Downloading huggingface_hub-0.11.1-py3-none-any.whl (182 kB)\n",
            "\u001b[K     |████████████████████████████████| 182 kB 61.1 MB/s \n",
            "\u001b[?25hRequirement already satisfied: packaging>=20.0 in /usr/local/lib/python3.8/dist-packages (from transformers) (21.3)\n",
            "Requirement already satisfied: regex!=2019.12.17 in /usr/local/lib/python3.8/dist-packages (from transformers) (2022.6.2)\n",
            "Requirement already satisfied: filelock in /usr/local/lib/python3.8/dist-packages (from transformers) (3.8.0)\n",
            "Requirement already satisfied: typing-extensions>=3.7.4.3 in /usr/local/lib/python3.8/dist-packages (from huggingface-hub<1.0,>=0.10.0->transformers) (4.1.1)\n",
            "Requirement already satisfied: pyparsing!=3.0.5,>=2.0.2 in /usr/local/lib/python3.8/dist-packages (from packaging>=20.0->transformers) (3.0.9)\n",
            "Requirement already satisfied: certifi>=2017.4.17 in /usr/local/lib/python3.8/dist-packages (from requests->transformers) (2022.9.24)\n",
            "Requirement already satisfied: urllib3!=1.25.0,!=1.25.1,<1.26,>=1.21.1 in /usr/local/lib/python3.8/dist-packages (from requests->transformers) (1.24.3)\n",
            "Requirement already satisfied: idna<3,>=2.5 in /usr/local/lib/python3.8/dist-packages (from requests->transformers) (2.10)\n",
            "Requirement already satisfied: chardet<4,>=3.0.2 in /usr/local/lib/python3.8/dist-packages (from requests->transformers) (3.0.4)\n",
            "Installing collected packages: tokenizers, huggingface-hub, transformers\n",
            "Successfully installed huggingface-hub-0.11.1 tokenizers-0.13.2 transformers-4.25.1\n"
          ]
        }
      ],
      "source": [
        "!pip install transformers"
      ]
    },
    {
      "cell_type": "code",
      "execution_count": 5,
      "metadata": {
        "id": "gRX8bzImV7cc"
      },
      "outputs": [],
      "source": [
        "import warnings\n",
        "warnings.simplefilter('ignore')\n",
        "import numpy as np\n",
        "import pandas as pd\n",
        "from tqdm import tqdm\n",
        "from sklearn import metrics\n",
        "import transformers\n",
        "import torch\n",
        "from torch.utils.data import Dataset, DataLoader, RandomSampler, SequentialSampler\n",
        "from transformers import DistilBertTokenizer, DistilBertModel\n",
        "import logging\n",
        "logging.basicConfig(level=logging.ERROR)\n",
        "\n",
        "from transformers import BertTokenizer, BertModel, BertForMaskedLM\n",
        "from scipy.spatial.distance import cosine\n",
        "import torch\n",
        "from sklearn.decomposition import PCA\n",
        "from sklearn.manifold import TSNE\n",
        "from sklearn.metrics.pairwise import cosine_similarity\n",
        "import pandas as pd\n",
        "import seaborn as sns\n",
        "import matplotlib.pyplot as plt\n",
        "import matplotlib.ticker as ticker\n",
        "\n",
        "import spacy\n",
        "import numpy as np\n",
        "import matplotlib"
      ]
    },
    {
      "cell_type": "code",
      "execution_count": 6,
      "metadata": {
        "id": "wS5d9WjRWYWf"
      },
      "outputs": [],
      "source": [
        "from torch import cuda\n",
        "device = 'cuda' if cuda.is_available() else 'cpu'"
      ]
    },
    {
      "cell_type": "markdown",
      "metadata": {
        "id": "oQzzSNsK196S"
      },
      "source": [
        "## Plotting functions"
      ]
    },
    {
      "cell_type": "code",
      "execution_count": 7,
      "metadata": {
        "id": "YpHf7fZQWUF1"
      },
      "outputs": [],
      "source": [
        "def map_on_3d(data_2d, words, color_mapping:None, exceptional_words=[], use_word_colors=False, fig_size=[19,11], title=\"\"):\n",
        "    fig = matplotlib.pyplot.gcf()\n",
        "    fig.set_size_inches(fig_size[0], fig_size[1])\n",
        "\n",
        "    ax = plt.axes(projection =\"3d\")\n",
        "    #scatter result words\n",
        "    ax.scatter3D(data_2d[:, 0], data_2d[:, 1], data_2d[:, 2])\n",
        "    plt.title(title)\n",
        "    for i, word in enumerate(words):\n",
        "        ax.text(data_2d[i, 0], data_2d[i, 1], data_2d[i, 2], word, color=color_mapping[word_pos[i]])\n",
        "    plt.show()\n",
        "\n",
        "def get_color_mapping(Ys,color_by=\"verb\"):\n",
        "  mapped_colors = []\n",
        "  if color_by == \"verb\":    \n",
        "    colors =[\"#ff0000\",\"#00dd00\",\"#0000dd\"] \n",
        "    verbs = [\"adverb\",\"eat\",\"drink\",\" read\"] #bread has \"read\" process carefully\n",
        "    for y in Ys:\n",
        "      indexes = [i for i,verb in enumerate(verbs) if y.find(verb) > -1]\n",
        "      mapped_colors.append(colors[indexes[0]] )\n",
        "\n",
        "  if color_by == \"object\":    \n",
        "    colors =[\"#ff0000\",\"#aaaa00\",\"#00ff00\",\"#000220\",\"#0000ff\",\"#00aaaa\"] \n",
        "    #objects = [\"apple\",\"bread\",\"water\",\"beer\",\"book\",\"newspaper\"]\n",
        "    objects = [\"above\",\"down\",\"all\",\"genetic\",\"book\",\"newspaper\"]\n",
        "    for y in Ys:\n",
        "      indexes = [i for i,object in enumerate(objects) if y.find(object) > -1]\n",
        "      mapped_colors.append(colors[indexes[0]] )\n",
        "  return mapped_colors  \n",
        "\n",
        "def get_color_util(word_pos):\n",
        "    \"\"\"returns list of color codes for each item in word_POS\"\"\"\n",
        "    unique_word_pos = list(set(word_pos))\n",
        "    colors = ['#BCEE68', '#BF3EFF','#00BFFF', '#FF7D40', '#FFC125']\n",
        "    d = {}\n",
        "    import random\n",
        "    for i in range(len(unique_word_pos)):\n",
        "        #r = lambda: random.randint(0,255)\n",
        "        #d[pos] = '#%02X%02X%02X' % (r(),r(),r())\n",
        "        d[unique_word_pos[i]] = colors[i]\n",
        "    return d\n",
        "\n",
        "def map_on_2d(data_2d,words,color_mapping=None,exceptional_words=[],use_word_colors=False,fig_size=[16,11],title=\"\",word_pos=None):\n",
        "    fig = matplotlib.pyplot.gcf()\n",
        "    fig.set_size_inches(fig_size[0], fig_size[1])\n",
        "    plt.scatter(data_2d[:, 0], data_2d[:, 1])        \n",
        "    plt.title(title)\n",
        "    for i, word in enumerate(words):\n",
        "        plt.annotate(word, xy=(data_2d[i, 0], data_2d[i, 1]), color=color_mapping[word_pos[i]])\n",
        "    plt.show()   \n",
        "\n",
        "\n",
        "def dump_on_surface(Xs,Ys,fitting=\"tsne\",dump_3d=True,dump_2d=True,color_by=\"verb\",title=\"\", word_pos=None):\n",
        "    ## commented the below because it takes color mapping which is hardcoded\n",
        "    ## not required as of now\n",
        "    # color_mapping = get_color_mapping(Ys,color_by)\n",
        "    \n",
        "    colors_pos = get_color_util(word_pos)\n",
        "    if dump_3d:    \n",
        "        X_transformed = None\n",
        "        if fitting==\"tsne\":\n",
        "          X_transformed = PCA(n_components=3).fit_transform(np.array(Xs))\n",
        "        else:   \n",
        "          X_transformed = TSNE(n_components=3).fit_transform(np.array(Xs))\n",
        "        map_on_3d(np.array(X_transformed), \n",
        "                  Ys, \n",
        "                  color_mapping=colors_pos, \n",
        "                  use_word_colors=False, \n",
        "                  fig_size=[10,10], \n",
        "                  title=title,\n",
        "                  word_pos=word_pos)\n",
        "    if dump_2d:    \n",
        "        pca = PCA(n_components=2)\n",
        "        X_transformed = pca.fit_transform(np.array(Xs))\n",
        "        map_on_2d(np.array(X_transformed),\n",
        "                  Ys,\n",
        "                  color_mapping=colors_pos,\n",
        "                  use_word_colors=False,\n",
        "                  fig_size=[10,10],\n",
        "                  title=title,\n",
        "                  word_pos=word_pos)"
      ]
    },
    {
      "cell_type": "markdown",
      "metadata": {
        "id": "aAdGJCFiWF3x"
      },
      "source": [
        "## Helper functions"
      ]
    },
    {
      "cell_type": "code",
      "execution_count": 8,
      "metadata": {
        "id": "lpGLxr9QWImj"
      },
      "outputs": [],
      "source": [
        "#Bert utility methods to use in this tutorial. these methods are not optimized\n",
        "#because it processes 1-by-1 , in real usage these methods must process multi-sentences at once\n",
        "\n",
        "\n",
        "#Bert model returns 3 things : last_hidden_state, pooler_output, hidden_states\n",
        "#last_hidden_state : last output of network [batch x seq_len x 768]\n",
        "#pooler_output : the ouput of last piece of network [batch  x 768]\n",
        "#hidden_states : all outputs of all layers(13 layers) each [batch x seq_len x 768]\n",
        "def get_bert_output(tokenizer_,model_,sentence):\n",
        "  bert_text = \"[CLS] \" + sentence + \" [SEP]\"\n",
        "  tokenized_text = tokenizer_.tokenize(bert_text)\n",
        "  indexed_tokens = tokenizer_.convert_tokens_to_ids(tokenized_text)\n",
        "  segments_ids = [1] * len(tokenized_text)\n",
        "  tokens_tensor = torch.tensor([indexed_tokens])\n",
        "  segments_tensors = torch.tensor([segments_ids])\n",
        "  \n",
        "  outputs = model_(tokens_tensor, segments_tensors)\n",
        "  return outputs  \n",
        "\n",
        "#pooler is layer after transformers , use this output for classification tasks\n",
        "#  (pooler): BertPooler(\n",
        "#    (dense): Linear(in_features=768, out_features=768, bias=True)\n",
        "#    (activation): Tanh()\n",
        "#  )\n",
        "def get_bert_output_pooled(tokenizer_,model_,sentence):  \n",
        "  outputs = get_bert_output(tokenizer_,model_,sentence)\n",
        "  output_pooled =  outputs[\"pooler_output\"] \n",
        "  return output_pooled.squeeze()  \n",
        "\n",
        "#last hidden state of CLS token represents sentence embedding\n",
        "def get_bert_output_cls(tokenizer_,model_,sentence):    \n",
        "  outputs = get_bert_output(tokenizer_,model_,sentence) \n",
        "  cls_output = outputs[\"last_hidden_state\"].squeeze()[0]\n",
        "  return cls_output\n",
        "\n",
        "\n",
        "#hidden layers are 1 initial embedding + 12 bert tranformer = 13 layers\n",
        "def get_bert_hidden_layers(tokenizer_,model_,sentence):\n",
        "  outputs = get_bert_output(tokenizer_,model_,sentence)\n",
        "  hidden_states = outputs[\"hidden_states\"]\n",
        "  return hidden_states  \n",
        "\n",
        "#try different architectures that best fits your problem ,\n",
        "#I can give combination of different layers and try which combination of hidden states best fit to\n",
        "#your target problem\n",
        "def get_sentence_embedding(tokenizer_,model_,sentence,layer_start=-4,layer_end=None,type=\"sumsum\"):\n",
        "  hidden_states = get_bert_hidden_layers(tokenizer_,model_,sentence)\n",
        "  effective_layers = torch.stack(hidden_states[layer_start:layer_end])\n",
        "  \n",
        "  if type == \"sumsum\":\n",
        "    sentence_embedding = torch.sum(effective_layers.sum(0).squeeze(), dim=0) \n",
        "  elif type == \"summean\":  \n",
        "    sentence_embedding = torch.sum(effective_layers.mean(0).squeeze(), dim=0) \n",
        "  elif type == \"meanmean\":  \n",
        "    sentence_embedding = torch.mean(effective_layers.mean(0).squeeze(), dim=0)    \n",
        "  else:\n",
        "    sentence_embedding = torch.mean(effective_layers.sum(0).squeeze(), dim=0)      \n",
        "\n",
        "  return sentence_embedding\n",
        "\n",
        "\n",
        "\n",
        "#all hidden transformer states\n",
        "def get_bert_transformer_layers(tokenizer_,model_,sentence):  \n",
        "  hidden_states = get_bert_hidden_layers(tokenizer_,model_,sentence)\n",
        "\n",
        "  token_embeddings = torch.tensor( [h.detach().numpy() for h in hidden_states[1:]])\n",
        "  token_embeddings = token_embeddings.squeeze()\n",
        "  token_embeddings = token_embeddings.permute(1,0,2)\n",
        "  return token_embeddings\n",
        "\n",
        " \n",
        "\n",
        "\n",
        "#best practise is concating last 4 layers\n",
        "#Steps to create a word embedding\n",
        "#1) get all transformer layer outputs(12x768 for 1 word)\n",
        "#2) do a summarization of 12 vector(mean,sum,pool,concat ...)\n",
        "def get_word_embeddings_sum(tokenizer_,model_,sentence) :\n",
        "  token_embeddings = get_bert_transformer_layers(tokenizer_,model_,sentence)  \n",
        "  word_embeddings = []\n",
        "  for token in token_embeddings:\n",
        "    #torch.cat((token[-1], token[-2], token[-3], token[-4]), dim=0)        \n",
        "    sum_vec = torch.sum(token[-4:], dim=0)   \n",
        "    word_embeddings.append(sum_vec)\n",
        "\n",
        "  return word_embeddings \n",
        "\n",
        "class EmbeddingPair:\n",
        "  def __init__(self,word,vector):\n",
        "    self.word = word\n",
        "    self.vector = vector\n",
        "\n",
        "#return token -> token_embedding as pairs.    \n",
        "def get_embeddings_as_pair(tokenizer_,model_,sentence,embeddings):\n",
        "  bert_text = \"[CLS] \" + sentence + \" [SEP]\"\n",
        "  tokenized_text = tokenizer_.tokenize(bert_text)\n",
        "  return [ EmbeddingPair(tokenized_text[index] , embeddings[index]) for index in range(len(tokenized_text)) ]\n",
        "\n",
        "\n",
        "#given a sentence only return the embeddings of specified word\n",
        "#just my utility method for easy visualization\n",
        "def get_word_embeddings(tokenizer_,model_,sentence,word):\n",
        "  embeddings = get_word_embeddings_sum(tokenizer_,model_, sentence )\n",
        "  embeddings_as_pairs = get_embeddings_as_pair(tokenizer_,model_,sentence,embeddings)\n",
        "  word_embeddings = []\n",
        "  for pair in embeddings_as_pairs:\n",
        "    if pair.word == word:\n",
        "      word_embeddings.append( pair )\n",
        "  return word_embeddings  \n",
        "\n",
        "def get_similarity(vector1,vector2):\n",
        "  return 1 - cosine(vector1, vector2)  "
      ]
    },
    {
      "cell_type": "markdown",
      "metadata": {
        "id": "RCOzG_D3XTf3"
      },
      "source": [
        "## Fine-tune"
      ]
    },
    {
      "cell_type": "code",
      "execution_count": 9,
      "metadata": {
        "id": "c-HK73nBXYpd"
      },
      "outputs": [],
      "source": [
        "import os\n",
        "from tqdm import tqdm_notebook as tqdm\n",
        "import numpy as np\n",
        "import torch\n",
        "import torch.nn as nn\n",
        "from torch.utils import data\n",
        "import torch.optim as optim"
      ]
    },
    {
      "cell_type": "code",
      "execution_count": 10,
      "metadata": {
        "colab": {
          "base_uri": "https://localhost:8080/"
        },
        "id": "DMCOCDwsYDfX",
        "outputId": "01e4491d-ce6c-499c-cccc-cad3b097cb18"
      },
      "outputs": [
        {
          "output_type": "stream",
          "name": "stderr",
          "text": [
            "[nltk_data] Downloading package treebank to /root/nltk_data...\n",
            "[nltk_data]   Unzipping corpora/treebank.zip.\n"
          ]
        },
        {
          "output_type": "execute_result",
          "data": {
            "text/plain": [
              "3914"
            ]
          },
          "metadata": {},
          "execution_count": 10
        }
      ],
      "source": [
        "import nltk\n",
        "nltk.download('treebank')\n",
        "tagged_sents = nltk.corpus.treebank.tagged_sents()\n",
        "len(tagged_sents)"
      ]
    },
    {
      "cell_type": "code",
      "execution_count": 11,
      "metadata": {
        "colab": {
          "base_uri": "https://localhost:8080/"
        },
        "id": "C2Mhkha2ZP85",
        "outputId": "c50a185c-71d6-4b57-cbf0-3fd2c1618ede"
      },
      "outputs": [
        {
          "output_type": "execute_result",
          "data": {
            "text/plain": [
              "[('Pierre', 'NNP'),\n",
              " ('Vinken', 'NNP'),\n",
              " (',', ','),\n",
              " ('61', 'CD'),\n",
              " ('years', 'NNS'),\n",
              " ('old', 'JJ'),\n",
              " (',', ','),\n",
              " ('will', 'MD'),\n",
              " ('join', 'VB'),\n",
              " ('the', 'DT'),\n",
              " ('board', 'NN'),\n",
              " ('as', 'IN'),\n",
              " ('a', 'DT'),\n",
              " ('nonexecutive', 'JJ'),\n",
              " ('director', 'NN'),\n",
              " ('Nov.', 'NNP'),\n",
              " ('29', 'CD'),\n",
              " ('.', '.')]"
            ]
          },
          "metadata": {},
          "execution_count": 11
        }
      ],
      "source": [
        "tagged_sents[0]"
      ]
    },
    {
      "cell_type": "code",
      "execution_count": 12,
      "metadata": {
        "id": "3_L5avyEZQyg"
      },
      "outputs": [],
      "source": [
        "tags = list(set(word_pos[1] for sent in tagged_sents for word_pos in sent))"
      ]
    },
    {
      "cell_type": "code",
      "execution_count": 13,
      "metadata": {
        "colab": {
          "base_uri": "https://localhost:8080/",
          "height": 53
        },
        "id": "PKUAVRJjZQmh",
        "outputId": "a1721e14-221f-499c-ddf3-6a6f38343e37"
      },
      "outputs": [
        {
          "output_type": "execute_result",
          "data": {
            "text/plain": [
              "\"CD,NNP,NNPS,-NONE-,VB,WRB,.,NNS,RP,:,UH,DT,#,VBZ,PDT,RB,EX,RBS,NN,``,JJ,$,CC,WP$,PRP,VBP,JJS,,,POS,LS,'',JJR,-RRB-,PRP$,WDT,FW,WP,TO,-LRB-,IN,MD,VBN,RBR,VBG,VBD,SYM\""
            ],
            "application/vnd.google.colaboratory.intrinsic+json": {
              "type": "string"
            }
          },
          "metadata": {},
          "execution_count": 13
        }
      ],
      "source": [
        "\",\".join(tags)"
      ]
    },
    {
      "cell_type": "code",
      "execution_count": 14,
      "metadata": {
        "id": "yS3u4SfOZV94"
      },
      "outputs": [],
      "source": [
        "# By convention, the 0'th slot is reserved for padding.\n",
        "tags = [\"<pad>\"] + tags"
      ]
    },
    {
      "cell_type": "code",
      "execution_count": 15,
      "metadata": {
        "id": "sz0TNIUXZV59"
      },
      "outputs": [],
      "source": [
        "tag2idx = {tag:idx for idx, tag in enumerate(tags)}\n",
        "idx2tag = {idx:tag for idx, tag in enumerate(tags)}"
      ]
    },
    {
      "cell_type": "code",
      "execution_count": 16,
      "metadata": {
        "colab": {
          "base_uri": "https://localhost:8080/"
        },
        "id": "6NzR8KcQZaa_",
        "outputId": "1aacd9b9-3a76-4131-8223-421a6a3dc2d3"
      },
      "outputs": [
        {
          "output_type": "execute_result",
          "data": {
            "text/plain": [
              "(3522, 392)"
            ]
          },
          "metadata": {},
          "execution_count": 16
        }
      ],
      "source": [
        "# Let's split the data into train and test (or eval)\n",
        "from sklearn.model_selection import train_test_split\n",
        "train_data, test_data = train_test_split(tagged_sents, test_size=.1)\n",
        "len(train_data), len(test_data)"
      ]
    },
    {
      "cell_type": "code",
      "execution_count": 17,
      "metadata": {
        "id": "Ujj42Q0wZdP1"
      },
      "outputs": [],
      "source": [
        "device = 'cuda' if torch.cuda.is_available() else 'cpu'"
      ]
    },
    {
      "cell_type": "code",
      "execution_count": 18,
      "metadata": {
        "colab": {
          "base_uri": "https://localhost:8080/",
          "height": 113,
          "referenced_widgets": [
            "c005240b980f4b468ae964797a3603e9",
            "7a058e37ef404df193f458a8b8a1cd22",
            "a8c72ad0b3ae4c84b930dad69a4f64a9",
            "9e2143bb8deb46e2ac23fb57c36ee5d2",
            "91feac425fba4c58b8ae45c1a4ebb2a7",
            "065696c7771d42c38773e7cd8760ffb2",
            "295b01176453436cbd44941d802085fd",
            "54f85871e405482499910eac37c6e18f",
            "22e278be584f4382bf65d9ae400090f6",
            "704b08fec8374500947b5308055d7fef",
            "5a8aeaf005eb4dfa8d6aebc4a32e2576",
            "014bfe624dfd40208e777bccdddacc76",
            "e0bb3d8e5c224c38b0d38afa6c1be98b",
            "95cf56b4e30c411abfadbfa871698077",
            "f290f87a15a9446d920c19d33365a0c5",
            "f1be34698568463b8210b473a986c222",
            "ef82f64dd601463dabcac67368579e50",
            "3f68d2b0bdcd4c9489b1e660755bc338",
            "19e61a69682b4a5faa6cf3f6db8af23c",
            "a04288084c1745c9a35a15efe0641ffa",
            "9e5d051bd2794052add90832ba5b275c",
            "fdd6aab3401843bfbd459de4179a04ec",
            "9356bfb623dc4da386bdee9f2564da81",
            "f1a9f866dd77486c9519857aa25906b8",
            "0e5d1c18003b40509ea963c79df61071",
            "eb53bffc87194cf5acb53ad8a5084b75",
            "4f0cf086b788439ab7bb957893939a01",
            "b3f36f39af6e4ea1952657670033e2e2",
            "32881922d2594a8caf46404305e81b6f",
            "d5b2e788064e4877a928854a47bc8382",
            "a64f6e47d26343148ef01074e166286e",
            "299c07c395594b78b3a173ea71b48905",
            "5e4e61286cd348bfbae577ff716aeb6e"
          ]
        },
        "id": "sogwduBIZg6-",
        "outputId": "0b0356b4-1518-4b96-8320-91b801f2d8ac"
      },
      "outputs": [
        {
          "output_type": "display_data",
          "data": {
            "text/plain": [
              "Downloading:   0%|          | 0.00/213k [00:00<?, ?B/s]"
            ],
            "application/vnd.jupyter.widget-view+json": {
              "version_major": 2,
              "version_minor": 0,
              "model_id": "c005240b980f4b468ae964797a3603e9"
            }
          },
          "metadata": {}
        },
        {
          "output_type": "display_data",
          "data": {
            "text/plain": [
              "Downloading:   0%|          | 0.00/29.0 [00:00<?, ?B/s]"
            ],
            "application/vnd.jupyter.widget-view+json": {
              "version_major": 2,
              "version_minor": 0,
              "model_id": "014bfe624dfd40208e777bccdddacc76"
            }
          },
          "metadata": {}
        },
        {
          "output_type": "display_data",
          "data": {
            "text/plain": [
              "Downloading:   0%|          | 0.00/570 [00:00<?, ?B/s]"
            ],
            "application/vnd.jupyter.widget-view+json": {
              "version_major": 2,
              "version_minor": 0,
              "model_id": "9356bfb623dc4da386bdee9f2564da81"
            }
          },
          "metadata": {}
        }
      ],
      "source": [
        "tokenizer = BertTokenizer.from_pretrained('bert-base-cased', do_lower_case=False)\n",
        "#tokenizer = DistilBertTokenizer.from_pretrained('distilbert-base-cased', truncation=True, do_lower_case=True)"
      ]
    },
    {
      "cell_type": "code",
      "execution_count": 19,
      "metadata": {
        "id": "86fn1QtYZne3"
      },
      "outputs": [],
      "source": [
        "class PosDataset(data.Dataset):\n",
        "    def __init__(self, tagged_sents):\n",
        "        sents, tags_li = [], [] # list of lists\n",
        "        for sent in tagged_sents:\n",
        "            words = [word_pos[0] for word_pos in sent]\n",
        "            tags = [word_pos[1] for word_pos in sent]\n",
        "            sents.append([\"[CLS]\"] + words + [\"[SEP]\"])\n",
        "            tags_li.append([\"<pad>\"] + tags + [\"<pad>\"])\n",
        "        self.sents, self.tags_li = sents, tags_li\n",
        "\n",
        "    def __len__(self):\n",
        "        return len(self.sents)\n",
        "\n",
        "    def __getitem__(self, idx):\n",
        "        words, tags = self.sents[idx], self.tags_li[idx] # words, tags: string list\n",
        "\n",
        "        # We give credits only to the first piece.\n",
        "        x, y = [], [] # list of ids\n",
        "        is_heads = [] # list. 1: the token is the first piece of a word\n",
        "        for w, t in zip(words, tags):\n",
        "            tokens = tokenizer.tokenize(w) if w not in (\"[CLS]\", \"[SEP]\") else [w]\n",
        "            xx = tokenizer.convert_tokens_to_ids(tokens)\n",
        "\n",
        "            is_head = [1] + [0]*(len(tokens) - 1)\n",
        "\n",
        "            t = [t] + [\"<pad>\"] * (len(tokens) - 1)  # <PAD>: no decision\n",
        "            yy = [tag2idx[each] for each in t]  # (T,)\n",
        "\n",
        "            x.extend(xx)\n",
        "            is_heads.extend(is_head)\n",
        "            y.extend(yy)\n",
        "\n",
        "        assert len(x)==len(y)==len(is_heads), \"len(x)={}, len(y)={}, len(is_heads)={}\".format(len(x), len(y), len(is_heads))\n",
        "\n",
        "        # seqlen\n",
        "        seqlen = len(y)\n",
        "\n",
        "        # to string\n",
        "        words = \" \".join(words)\n",
        "        tags = \" \".join(tags)\n",
        "        return words, x, is_heads, tags, y, seqlen"
      ]
    },
    {
      "cell_type": "code",
      "execution_count": 20,
      "metadata": {
        "id": "0uHdFPjMZoPB"
      },
      "outputs": [],
      "source": [
        "def pad(batch):\n",
        "    '''Pads to the longest sample'''\n",
        "    f = lambda x: [sample[x] for sample in batch]\n",
        "    words = f(0)\n",
        "    is_heads = f(2)\n",
        "    tags = f(3)\n",
        "    seqlens = f(-1)\n",
        "    maxlen = np.array(seqlens).max()\n",
        "\n",
        "    f = lambda x, seqlen: [sample[x] + [0] * (seqlen - len(sample[x])) for sample in batch] # 0: <pad>\n",
        "    x = f(1, maxlen)\n",
        "    y = f(-2, maxlen)\n",
        "\n",
        "\n",
        "    f = torch.LongTensor\n",
        "\n",
        "    return words, f(x), is_heads, tags, f(y), seqlens"
      ]
    },
    {
      "cell_type": "code",
      "execution_count": 21,
      "metadata": {
        "id": "2GWdLzwSZqiG"
      },
      "outputs": [],
      "source": [
        "# from pytorch_pretrained_bert import BertModel\n",
        "from transformers import BertModel"
      ]
    },
    {
      "cell_type": "code",
      "execution_count": 22,
      "metadata": {
        "id": "WweSs8F1ZvW9"
      },
      "outputs": [],
      "source": [
        "class Net(nn.Module):\n",
        "    def __init__(self, vocab_size=None):\n",
        "        super().__init__()\n",
        "        self.bert = BertModel.from_pretrained('bert-base-cased')\n",
        "\n",
        "        self.fc = nn.Linear(768, vocab_size)\n",
        "        self.device = device\n",
        "\n",
        "    def forward(self, x, y):\n",
        "        '''\n",
        "        x: (N, T). int64\n",
        "        y: (N, T). int64\n",
        "        '''\n",
        "        x = x.to(device)\n",
        "        y = y.to(device)\n",
        "        \n",
        "        if self.training:\n",
        "            self.bert.train()\n",
        "            encoded_layers, _ = self.bert(x, return_dict=False)\n",
        "            enc = encoded_layers[-1]\n",
        "        else:\n",
        "            self.bert.eval()\n",
        "            with torch.no_grad():\n",
        "                encoded_layers, _ = self.bert(x, return_dict=False)\n",
        "                enc = encoded_layers[-1]\n",
        "        \n",
        "        logits = self.fc(enc)\n",
        "        y_hat = logits.argmax(-1)\n",
        "        return logits, y, y_hat, enc"
      ]
    },
    {
      "cell_type": "code",
      "execution_count": 23,
      "metadata": {
        "id": "kTZDV-czZye6"
      },
      "outputs": [],
      "source": [
        "def train(model, iterator, optimizer, criterion):\n",
        "    model.train()\n",
        "    for i, batch in enumerate(iterator):\n",
        "        words, x, is_heads, tags, y, seqlens = batch\n",
        "        _y = y # for monitoring\n",
        "        optimizer.zero_grad()\n",
        "        logits, y, _, _ = model(x, y) # logits: (N, T, VOCAB), y: (N, T)\n",
        "        logits = logits.view(-1, logits.shape[-1]) # (N*T, VOCAB)\n",
        "        y = y.view(-1)  # (N*T,)\n",
        "\n",
        "        loss = criterion(logits, y)\n",
        "        loss.backward()\n",
        "\n",
        "        optimizer.step()\n",
        "\n",
        "        if i%10==0: # monitoring\n",
        "            print(\"step: {}, loss: {}\".format(i, loss.item()))"
      ]
    },
    {
      "cell_type": "code",
      "execution_count": 24,
      "metadata": {
        "id": "eWkXDJ9VZ1aH"
      },
      "outputs": [],
      "source": [
        "def eval(model, iterator):\n",
        "    model.eval()\n",
        "\n",
        "    Words, Is_heads, Tags, Y, Y_hat = [], [], [], [], []\n",
        "    with torch.no_grad():\n",
        "        for i, batch in enumerate(iterator):\n",
        "            words, x, is_heads, tags, y, seqlens = batch\n",
        "\n",
        "            _, _, y_hat, _ = model(x, y)  # y_hat: (N, T)\n",
        "\n",
        "            Words.extend(words)\n",
        "            Is_heads.extend(is_heads)\n",
        "            Tags.extend(tags)\n",
        "            Y.extend(y.numpy().tolist())\n",
        "            Y_hat.extend(y_hat.cpu().numpy().tolist())\n",
        "\n",
        "    ## gets results and save\n",
        "    with open(\"result\", 'w') as fout:\n",
        "        for words, is_heads, tags, y_hat in zip(Words, Is_heads, Tags, Y_hat):\n",
        "            y_hat = [hat for head, hat in zip(is_heads, y_hat) if head == 1]\n",
        "            preds = [idx2tag[hat] for hat in y_hat]\n",
        "            assert len(preds)==len(words.split())==len(tags.split())\n",
        "            for w, t, p in zip(words.split()[1:-1], tags.split()[1:-1], preds[1:-1]):\n",
        "                fout.write(\"{} {} {}\\n\".format(w, t, p))\n",
        "            fout.write(\"\\n\")\n",
        "            \n",
        "    ## calc metric\n",
        "    y_true =  np.array([tag2idx[line.split()[1]] for line in open('result', 'r').read().splitlines() if len(line) > 0])\n",
        "    y_pred =  np.array([tag2idx[line.split()[2]] for line in open('result', 'r').read().splitlines() if len(line) > 0])\n",
        "\n",
        "    acc = (y_true==y_pred).astype(np.int32).sum() / len(y_true)\n",
        "\n",
        "    print(\"acc=%.2f\"%acc)"
      ]
    },
    {
      "cell_type": "code",
      "execution_count": 25,
      "metadata": {
        "colab": {
          "base_uri": "https://localhost:8080/",
          "height": 123,
          "referenced_widgets": [
            "29c527cbe43844a4a01855a91ac6957e",
            "d0c419c2433745569af0421b6a2c7926",
            "bafece331d414db09205a9fe532f3e41",
            "651e2320ac5c48c3a738cfc35431d2d9",
            "42a1c02f49934580a0ab15d04683e3b7",
            "6dc94aa6b3704118a2029b3491f658ec",
            "7ce2f07029384a22b55e111be49b36e8",
            "1be86c404beb48ecbc7e244f1c33aad1",
            "79b3b242814d4f0797323e0393370ea4",
            "6b0ec2c8226a4ec8b05e78723c2d24d8",
            "9cd83fde05394cbba002460a1ced73bb"
          ]
        },
        "id": "4pj-ehlOCzol",
        "outputId": "64cdadcb-f5f2-46bd-d20d-c82017d2ead6"
      },
      "outputs": [
        {
          "output_type": "display_data",
          "data": {
            "text/plain": [
              "Downloading:   0%|          | 0.00/436M [00:00<?, ?B/s]"
            ],
            "application/vnd.jupyter.widget-view+json": {
              "version_major": 2,
              "version_minor": 0,
              "model_id": "29c527cbe43844a4a01855a91ac6957e"
            }
          },
          "metadata": {}
        },
        {
          "output_type": "stream",
          "name": "stderr",
          "text": [
            "Some weights of the model checkpoint at bert-base-cased were not used when initializing BertModel: ['cls.predictions.bias', 'cls.seq_relationship.weight', 'cls.predictions.transform.dense.weight', 'cls.predictions.transform.LayerNorm.weight', 'cls.seq_relationship.bias', 'cls.predictions.decoder.weight', 'cls.predictions.transform.dense.bias', 'cls.predictions.transform.LayerNorm.bias']\n",
            "- This IS expected if you are initializing BertModel from the checkpoint of a model trained on another task or with another architecture (e.g. initializing a BertForSequenceClassification model from a BertForPreTraining model).\n",
            "- This IS NOT expected if you are initializing BertModel from the checkpoint of a model that you expect to be exactly identical (initializing a BertForSequenceClassification model from a BertForSequenceClassification model).\n"
          ]
        }
      ],
      "source": [
        "model = Net(vocab_size=len(tag2idx))\n",
        "model.to(device)\n",
        "model = nn.DataParallel(model)"
      ]
    },
    {
      "cell_type": "code",
      "execution_count": 26,
      "metadata": {
        "id": "AqbCmWfLaCSr"
      },
      "outputs": [],
      "source": [
        "train_dataset = PosDataset(train_data)\n",
        "eval_dataset = PosDataset(test_data)\n",
        "\n",
        "train_iter = data.DataLoader(dataset=train_dataset,\n",
        "                             batch_size=1,\n",
        "                             shuffle=True,\n",
        "                             num_workers=1,\n",
        "                             collate_fn=pad)\n",
        "test_iter = data.DataLoader(dataset=eval_dataset,\n",
        "                             batch_size=1,\n",
        "                             shuffle=False,\n",
        "                             num_workers=1,\n",
        "                             collate_fn=pad)\n",
        "\n",
        "optimizer = optim.Adam(model.parameters(), lr = 0.0001)\n",
        "\n",
        "criterion = nn.CrossEntropyLoss(ignore_index=0)"
      ]
    },
    {
      "cell_type": "code",
      "execution_count": null,
      "metadata": {
        "colab": {
          "base_uri": "https://localhost:8080/"
        },
        "id": "58jwEAZ9AVPZ",
        "outputId": "acb0e1d8-d50e-4429-8903-c765196e57f4"
      },
      "outputs": [
        {
          "output_type": "execute_result",
          "data": {
            "text/plain": [
              "5"
            ]
          },
          "metadata": {},
          "execution_count": 39
        }
      ],
      "source": [
        "# sample_str = [\"What is genetic risk ?\", \n",
        "#               \"People get certain disease because of genetic changes .\",\n",
        "#               \"If your genetic results indicate that you have gene changes associated with an increased risk of heart disease , it does not mean that you definitely will develop heart disease .\",\n",
        "#               \"In fact , requiring someone to communicate his or her own genetic risk to family members who are therefore also at risk is considered by many to be ethically dubious .\",\n",
        "#               \"If certain disease genetic test is very accurate and it is unavoidable and necessary to get treatment and known by others , it is OK to disclose the result .\"\n",
        "#             ]\n",
        "# len(sample_str)"
      ]
    },
    {
      "cell_type": "code",
      "source": [
        "def bertposembedding(model_name, sentence: str):\n",
        "  with torch.no_grad():\n",
        "    for _, batch in enumerate(test_iter):\n",
        "      x = tokenizer(sentence, return_tensors='pt').input_ids\n",
        "      _, _, _, _, y, _ = batch\n",
        "      _, _, _, last = model_name(x, y[:3])\n",
        "      return last"
      ],
      "metadata": {
        "id": "1CvgCsC6cFxC"
      },
      "execution_count": 27,
      "outputs": []
    },
    {
      "cell_type": "code",
      "source": [
        "sample_str = [\"The Supreme court of the state is above .\", \n",
        "              \"A major is above a lieutenant .\", \n",
        "              \"Read the above sentences and make them short .\", \n",
        "              \"John raised his medal above his head to show .\",\n",
        "              \"The road slops down to the city .\", \n",
        "              \"Go down the road and turn right .\", \n",
        "              \"Exchange rates are down today .\", \n",
        "              \"Ups and downs are the part of life .\",\n",
        "              \"He works all the day honestly .\", \n",
        "              \"John has travelled all around the globe to explore the world .\", \n",
        "              \"All raised their hands in her favor .\", \n",
        "              \"He lost his all when her mother died .\",\n",
        "              \"I have seen you before .\",\n",
        "              \"He came before the appointed time .\",\n",
        "              \"They are men of like build and stature .\",\n",
        "              \"We shall not see his like again .\",\n",
        "              \"Like as a father pitieth his own children .\",\n",
        "              \"There is little danger in going there .\",\n",
        "              \"Man wants but little here below .\",\n",
        "              \"He eats very little .\"]\n",
        "\n",
        "corresponding_POS = ['Adverb',\n",
        "              'Preposition',\n",
        "              'Adjective',\n",
        "              'Noun',\n",
        "              'Adverb',\n",
        "              'Preposition',\n",
        "              'Adjective',\n",
        "              'Noun',\n",
        "              'Adjective',\n",
        "              'Adverb',\n",
        "              'Pronoun',\n",
        "              'Noun',\n",
        "              'Adverb',\n",
        "              'Preposition',\n",
        "              'Adjective',\n",
        "              'Noun',\n",
        "              'Adverb',\n",
        "              'Adjective',\n",
        "              'Noun',\n",
        "              'Adverb']\n",
        "\n",
        "print(len(sample_str), len(corresponding_POS))"
      ],
      "metadata": {
        "colab": {
          "base_uri": "https://localhost:8080/"
        },
        "id": "D8EDTr1dcT5E",
        "outputId": "057b9a73-eb89-4fae-da88-2e9be960e44f"
      },
      "execution_count": 33,
      "outputs": [
        {
          "output_type": "stream",
          "name": "stdout",
          "text": [
            "20 20\n"
          ]
        }
      ]
    },
    {
      "cell_type": "code",
      "execution_count": null,
      "metadata": {
        "id": "rLXEJcuzlmsE"
      },
      "outputs": [],
      "source": [
        "# Not fine-tuned\n",
        "\n",
        "k1 = np.array(bertposembedding(model, sample_str[0]).cpu())\n",
        "k2 = np.array(bertposembedding(model, sample_str[1]).cpu())\n",
        "k3 = np.array(bertposembedding(model, sample_str[2]).cpu())\n",
        "k4 = np.array(bertposembedding(model, sample_str[3]).cpu())\n",
        "k5 = np.array(bertposembedding(model, sample_str[4]).cpu())\n",
        "k6 = np.array(bertposembedding(model, sample_str[5]).cpu())\n",
        "k7 = np.array(bertposembedding(model, sample_str[6]).cpu())\n",
        "k8 = np.array(bertposembedding(model, sample_str[7]).cpu())\n",
        "k9 = np.array(bertposembedding(model, sample_str[8]).cpu())\n",
        "k10 = np.array(bertposembedding(model, sample_str[9]).cpu())\n",
        "k11 = np.array(bertposembedding(model, sample_str[10]).cpu())\n",
        "k12 = np.array(bertposembedding(model, sample_str[11]).cpu())\n",
        "k13 = np.array(bertposembedding(model, sample_str[12]).cpu())\n",
        "k14 = np.array(bertposembedding(model, sample_str[13]).cpu())\n",
        "k15 = np.array(bertposembedding(model, sample_str[14]).cpu())\n",
        "k16 = np.array(bertposembedding(model, sample_str[15]).cpu())\n",
        "k17 = np.array(bertposembedding(model, sample_str[16]).cpu())\n",
        "k18 = np.array(bertposembedding(model, sample_str[17]).cpu())\n",
        "k19 = np.array(bertposembedding(model, sample_str[18]).cpu())\n",
        "k20 = np.array(bertposembedding(model, sample_str[19]).cpu())"
      ]
    },
    {
      "cell_type": "code",
      "source": [
        "word_embeddings = [k1[8], k2[4], k3[3], k4[5], k5[4], k6[2], k7[4], k8[3], k9[3], k10[4], k11[1], k12[4],\n",
        "                   k13[5],k14[3],k15[5],k16[6],k17[1],k18[3],k19[4],k20[4]]\n",
        "word_pos = corresponding_POS\n",
        "\n",
        "\n",
        "word_with_pos = [\"above-Adverb\", \n",
        "              \"above-Preposition\", \n",
        "              \"above-Adjective\", \n",
        "              \"above-Noun\",\n",
        "              \"down-Adverb\", \n",
        "              \"down-Preposition\", \n",
        "              \"down-Adjective\", \n",
        "              \"downs-Noun\",\n",
        "              \"all-Adjective\", \n",
        "              \"all-Adverb\", \n",
        "              \"all-Pronoun\", \n",
        "              \"all-Noun\",\n",
        "              \"before-Adverb\",\n",
        "              \"before-Preposition\",\n",
        "              \"like-Adjective\",\n",
        "              \"like-Noun\",\n",
        "              \"like-Adverb\",\n",
        "              \"little-Adjective\",\n",
        "              \"little-Noun\",\n",
        "              \"little-Adverb\"]"
      ],
      "metadata": {
        "id": "A3NhbPIbsZmc"
      },
      "execution_count": 35,
      "outputs": []
    },
    {
      "cell_type": "code",
      "source": [
        "dump_on_surface(word_embeddings,\n",
        "                sample_str,\n",
        "                dump_3d=False,\n",
        "                fitting=\"tsne\",\n",
        "                color_by=\"object\",\n",
        "                word_pos=word_pos)"
      ],
      "metadata": {
        "id": "g8Gz8O5GPeXu",
        "outputId": "e350bc65-0ef1-435c-ef6a-5d970e893f3e",
        "colab": {
          "base_uri": "https://localhost:8080/",
          "height": 592
        }
      },
      "execution_count": 36,
      "outputs": [
        {
          "output_type": "display_data",
          "data": {
            "text/plain": [
              "<Figure size 720x720 with 1 Axes>"
            ],
            "image/png": "[encoded data removed]"
          },
          "metadata": {
            "needs_background": "light"
          }
        }
      ]
    },
    {
      "cell_type": "code",
      "source": [
        "dump_on_surface(word_embeddings,\n",
        "                word_with_pos,\n",
        "                dump_3d=False,\n",
        "                fitting=\"tsne\",\n",
        "                color_by=\"object\",\n",
        "                word_pos=word_pos)"
      ],
      "metadata": {
        "id": "rhEwEBrcKiNN",
        "outputId": "27348b27-a316-4918-9924-0141115a2a58",
        "colab": {
          "base_uri": "https://localhost:8080/",
          "height": 592
        }
      },
      "execution_count": 37,
      "outputs": [
        {
          "output_type": "display_data",
          "data": {
            "text/plain": [
              "<Figure size 720x720 with 1 Axes>"
            ],
            "image/png": "[encoded data removed]"
          },
          "metadata": {
            "needs_background": "light"
          }
        }
      ]
    },
    {
      "cell_type": "code",
      "execution_count": null,
      "metadata": {
        "id": "LyOcUFYl62O_"
      },
      "outputs": [],
      "source": [
        "train(model, train_iter, optimizer, criterion)"
      ]
    },
    {
      "cell_type": "code",
      "source": [
        "from google.colab import drive\n",
        "drive.mount('/content/drive')"
      ],
      "metadata": {
        "colab": {
          "base_uri": "https://localhost:8080/"
        },
        "id": "FNHRsfRBaGiN",
        "outputId": "a2314dfe-3c8e-45fa-abb2-4cbb6f73986e"
      },
      "execution_count": 38,
      "outputs": [
        {
          "output_type": "stream",
          "name": "stdout",
          "text": [
            "Mounted at /content/drive\n"
          ]
        }
      ]
    },
    {
      "cell_type": "code",
      "source": [
        "torch.save(model, '/content/drive/MyDrive/CS 546 Final Project /BERTPOS/model.pt')"
      ],
      "metadata": {
        "id": "TC92zIfnZ-K0"
      },
      "execution_count": 29,
      "outputs": []
    },
    {
      "cell_type": "code",
      "source": [
        "fine_tuned_model = torch.load('/content/drive/MyDrive/CS 546 Final Project /BERTPOS/model.pt')"
      ],
      "metadata": {
        "id": "ILrx0tpmQABh"
      },
      "execution_count": null,
      "outputs": []
    },
    {
      "cell_type": "code",
      "source": [
        "# fine-tuned\n",
        "\n",
        "k1 = np.array(bertposembedding(fine_tuned_model, sample_str[0]).cpu())\n",
        "k2 = np.array(bertposembedding(fine_tuned_model, sample_str[1]).cpu())\n",
        "k3 = np.array(bertposembedding(fine_tuned_model, sample_str[2]).cpu())\n",
        "k4 = np.array(bertposembedding(fine_tuned_model, sample_str[3]).cpu())\n",
        "k5 = np.array(bertposembedding(fine_tuned_model, sample_str[4]).cpu())\n",
        "k6 = np.array(bertposembedding(fine_tuned_model, sample_str[5]).cpu())\n",
        "k7 = np.array(bertposembedding(fine_tuned_model, sample_str[6]).cpu())\n",
        "k8 = np.array(bertposembedding(fine_tuned_model, sample_str[7]).cpu())\n",
        "k9 = np.array(bertposembedding(fine_tuned_model, sample_str[8]).cpu())\n",
        "k10 = np.array(bertposembedding(fine_tuned_model, sample_str[9]).cpu())\n",
        "k11 = np.array(bertposembedding(fine_tuned_model, sample_str[10]).cpu())\n",
        "k12 = np.array(bertposembedding(fine_tuned_model, sample_str[11]).cpu())\n",
        "k13 = np.array(bertposembedding(fine_tuned_model, sample_str[12]).cpu())\n",
        "k14 = np.array(bertposembedding(fine_tuned_model, sample_str[13]).cpu())\n",
        "k15 = np.array(bertposembedding(fine_tuned_model, sample_str[14]).cpu())\n",
        "k16 = np.array(bertposembedding(fine_tuned_model, sample_str[15]).cpu())\n",
        "k17 = np.array(bertposembedding(fine_tuned_model, sample_str[16]).cpu())\n",
        "k18 = np.array(bertposembedding(fine_tuned_model, sample_str[17]).cpu())\n",
        "k19 = np.array(bertposembedding(fine_tuned_model, sample_str[18]).cpu())\n",
        "k20 = np.array(bertposembedding(fine_tuned_model, sample_str[19]).cpu())\n",
        "\n",
        "\n",
        "word_embeddings_ft = [k1[8], k2[4], k3[3], k4[5], k5[4], k6[2], k7[4], k8[3], k9[3], k10[4], k11[1], k12[4],\n",
        "                   k13[5],k14[3],k15[5],k16[6],k17[1],k18[3],k19[4],k20[4]]\n",
        "\n",
        "dump_on_surface(word_embeddings_ft,\n",
        "                sample_str,\n",
        "                dump_3d=False,\n",
        "                fitting=\"tsne\",\n",
        "                color_by=\"object\",\n",
        "                word_pos=word_pos)"
      ],
      "metadata": {
        "colab": {
          "base_uri": "https://localhost:8080/",
          "height": 592
        },
        "id": "eexGMT4rcXkg",
        "outputId": "6a9b1b48-7d54-4acc-aa40-dfc4fb492976"
      },
      "execution_count": 56,
      "outputs": [
        {
          "output_type": "display_data",
          "data": {
            "text/plain": [
              "<Figure size 720x720 with 1 Axes>"
            ],
            "image/png": "[encoded data removed]"
          },
          "metadata": {
            "needs_background": "light"
          }
        }
      ]
    },
    {
      "cell_type": "code",
      "source": [
        "dump_on_surface(word_embeddings_ft,\n",
        "                word_with_pos,\n",
        "                dump_3d=False,\n",
        "                fitting=\"tsne\",\n",
        "                color_by=\"object\",\n",
        "                word_pos=word_pos)"
      ],
      "metadata": {
        "colab": {
          "base_uri": "https://localhost:8080/",
          "height": 592
        },
        "id": "lVZEzkJzeLjD",
        "outputId": "3fa4f14f-8977-466a-8ab3-85ffe3d89549"
      },
      "execution_count": 57,
      "outputs": [
        {
          "output_type": "display_data",
          "data": {
            "text/plain": [
              "<Figure size 720x720 with 1 Axes>"
            ],
            "image/png": "[encoded data removed]"
          },
          "metadata": {
            "needs_background": "light"
          }
        }
      ]
    },
    {
      "cell_type": "markdown",
      "metadata": {
        "id": "zspvDB1dWaXG"
      },
      "source": [
        "## Experiment"
      ]
    },
    {
      "cell_type": "code",
      "execution_count": null,
      "metadata": {
        "colab": {
          "base_uri": "https://localhost:8080/",
          "height": 36
        },
        "id": "WGEX180zWgwP",
        "outputId": "7d160483-f695-449d-b69e-055200ae2843"
      },
      "outputs": [
        {
          "data": {
            "application/vnd.google.colaboratory.intrinsic+json": {
              "type": "string"
            },
            "text/plain": [
              "'i want to eat bread'"
            ]
          },
          "execution_count": 7,
          "metadata": {},
          "output_type": "execute_result"
        }
      ],
      "source": [
        "sentences = ['i want to eat bread',\n",
        " 'i want to eat apple',\n",
        " 'i want to drink water',\n",
        " 'i want to drink beer', \n",
        " 'i want to read book', \n",
        " 'i want to read newspaper',\n",
        " 'i can eat bread', \n",
        " 'i can eat apple', \n",
        " 'i can drink water',\n",
        " 'i can drink beer', \n",
        " 'i can read book', \n",
        " 'i can read newspaper',\n",
        " 'we want to eat bread',\n",
        " 'we want to eat apple',\n",
        " 'we want to drink water',\n",
        " 'we want to drink beer',\n",
        " 'we want to read book', \n",
        " 'we want to read newspaper',\n",
        " 'we can eat bread', \n",
        " 'we can eat apple', \n",
        " 'we can drink water',\n",
        " 'we can drink beer', \n",
        " 'we can read book', \n",
        " 'we can read newspaper',\n",
        " 'i eat bread', \n",
        " 'i eat apple', \n",
        " 'i drink water', \n",
        " 'i drink beer', \n",
        " 'i read book', \n",
        " 'i read newspaper',\n",
        " 'we eat bread', \n",
        " 'we eat apple', \n",
        " 'we drink water',\n",
        " 'we drink beer',\n",
        " 'we read book', \n",
        " 'we read newspaper',\n",
        " ]\n",
        "sentences[0]"
      ]
    },
    {
      "cell_type": "code",
      "execution_count": null,
      "metadata": {
        "id": "n3x1tZIrWlBb"
      },
      "outputs": [],
      "source": [
        "MAX_LEN = 8"
      ]
    },
    {
      "cell_type": "code",
      "execution_count": null,
      "metadata": {
        "colab": {
          "base_uri": "https://localhost:8080/",
          "height": 249,
          "referenced_widgets": [
            "378dd4297c61480cb60285bd8f642cfa",
            "5d7e6715cb1947fdad853e856982b548",
            "716c2c66a7c84c3aad3eebc114732e70",
            "94e44a3c7be549ad86525aad0aabb6f2",
            "90cfe29f75874de2a89b8952f42446b5",
            "ec7086ea90664458a9511e68c25a29ca",
            "4dfa98af37f84a32a3d12d56b227a04d",
            "875e02fa10c14c848cbc8b301495179a",
            "78d80ccc6d3a4b8f8d10b27b1d13f95d",
            "d1cb5dab12e44120a42dffb38a84900a",
            "396f667dde4a4a3fb6d72a37ddb09a10",
            "9731305459f24f0bb2bc60644a7478a7",
            "81825a58f05a4d1e86bdbde960710b01",
            "85be3431c3c74d108556a5bdd872f160",
            "e7e7172119ef4113b967c3746f180e51",
            "2d634187adbc4058a723789b58b0680a",
            "49062a5bc7d34929af05d8ccaf2c74ff",
            "8673c61367b348fb82074a3af60a45ae",
            "928e67e5e3d04763a9f76149e35e8aab",
            "bfacdc01bab74e539a34b692a3e0603e",
            "a7c16ea3c0144897964637764da2d412",
            "93e01f8249f446e3b86da8beb2ecf577",
            "8c3ada5962514e0b90dffe0878a518a9",
            "808f23287879478ca7808cc225a900a2",
            "af9049b9f37c4e029116d398a041ca7f",
            "0fa038c0cdda4e84beb16fa826026188",
            "cde1b0ea75284c73991800f10f6ba4df",
            "e6abef6904b64ebba8ec3144e27c79df",
            "6f23300f1cee452bba8e73923b2293ee",
            "ee2a4beef44e4951b81f6a729c716502",
            "8acb6df732354590aef101eebe456350",
            "80ca2df865cf4f34832e39201c23bf9e",
            "090a107c3179485386e98c4638c8886f",
            "4e9e2c08f85242168b48d0d01356bb82",
            "584ea552b5234663ae12921c5c6cf9b7",
            "8de8315243b849e2af59830cc4930eeb",
            "2a58198621304d499bb20ba07384b16f",
            "852d0dba563b42909943baaf267d2392",
            "56f5251d5ed04c19a9ba2a5afba74c47",
            "97635a053ae34e6f9e74726b3debf5a9",
            "2e27b6e2ab3f4afa8c2885123db62175",
            "71622b35094642c595a8899007932e2d",
            "3cb562fc8e044ed49abe072ec0dedc00",
            "26c373e8b3e94a97a892cf8dbeb4773d",
            "62705ea31c9e41c2915b0d9d7750aca0",
            "c50e876c34094abc9a8ca63376589b7c",
            "4a9fba8416fb4c7c975ae188ab291703",
            "ac2f0f12d38240928a3e412bde0d9a61",
            "ab4b8b5e810a435693163079b8884e43",
            "ab9e03805595440c95b16b6a9a009ca6",
            "c5bda1f450cb4fd4ad808669b5f6289a",
            "a19dd4b1d62c404688f4b296a100b5f4",
            "e1e9e0c94d7a4beca98570e5f8615efb",
            "6bb0127e9a9445a7a8ff6be8ede96d0b",
            "14b7f6e37efa4281972fc5edab434132"
          ]
        },
        "id": "2wbKIo7JWnnS",
        "outputId": "3220a62a-7689-4ef6-a318-ac68588c4b85"
      },
      "outputs": [
        {
          "data": {
            "application/vnd.jupyter.widget-view+json": {
              "model_id": "378dd4297c61480cb60285bd8f642cfa",
              "version_major": 2,
              "version_minor": 0
            },
            "text/plain": [
              "Downloading:   0%|          | 0.00/570 [00:00<?, ?B/s]"
            ]
          },
          "metadata": {},
          "output_type": "display_data"
        },
        {
          "data": {
            "application/vnd.jupyter.widget-view+json": {
              "model_id": "9731305459f24f0bb2bc60644a7478a7",
              "version_major": 2,
              "version_minor": 0
            },
            "text/plain": [
              "Downloading:   0%|          | 0.00/440M [00:00<?, ?B/s]"
            ]
          },
          "metadata": {},
          "output_type": "display_data"
        },
        {
          "name": "stderr",
          "output_type": "stream",
          "text": [
            "Some weights of the model checkpoint at bert-base-uncased were not used when initializing BertModel: ['cls.predictions.bias', 'cls.seq_relationship.bias', 'cls.seq_relationship.weight', 'cls.predictions.decoder.weight', 'cls.predictions.transform.dense.weight', 'cls.predictions.transform.LayerNorm.bias', 'cls.predictions.transform.dense.bias', 'cls.predictions.transform.LayerNorm.weight']\n",
            "- This IS expected if you are initializing BertModel from the checkpoint of a model trained on another task or with another architecture (e.g. initializing a BertForSequenceClassification model from a BertForPreTraining model).\n",
            "- This IS NOT expected if you are initializing BertModel from the checkpoint of a model that you expect to be exactly identical (initializing a BertForSequenceClassification model from a BertForSequenceClassification model).\n"
          ]
        },
        {
          "data": {
            "application/vnd.jupyter.widget-view+json": {
              "model_id": "8c3ada5962514e0b90dffe0878a518a9",
              "version_major": 2,
              "version_minor": 0
            },
            "text/plain": [
              "Downloading:   0%|          | 0.00/232k [00:00<?, ?B/s]"
            ]
          },
          "metadata": {},
          "output_type": "display_data"
        },
        {
          "data": {
            "application/vnd.jupyter.widget-view+json": {
              "model_id": "4e9e2c08f85242168b48d0d01356bb82",
              "version_major": 2,
              "version_minor": 0
            },
            "text/plain": [
              "Downloading:   0%|          | 0.00/28.0 [00:00<?, ?B/s]"
            ]
          },
          "metadata": {},
          "output_type": "display_data"
        },
        {
          "data": {
            "application/vnd.jupyter.widget-view+json": {
              "model_id": "62705ea31c9e41c2915b0d9d7750aca0",
              "version_major": 2,
              "version_minor": 0
            },
            "text/plain": [
              "Downloading:   0%|          | 0.00/483 [00:00<?, ?B/s]"
            ]
          },
          "metadata": {},
          "output_type": "display_data"
        }
      ],
      "source": [
        "bert_model_nottrained = BertModel.from_pretrained('bert-base-uncased',output_hidden_states = True )\n",
        "bert_model_nottrained.eval()\n",
        "tokenizer_nottrained = DistilBertTokenizer.from_pretrained('distilbert-base-uncased', truncation=True, do_lower_case=True)"
      ]
    },
    {
      "cell_type": "code",
      "execution_count": null,
      "metadata": {
        "colab": {
          "base_uri": "https://localhost:8080/"
        },
        "id": "V_-Q1kzIWrDn",
        "outputId": "d789fa1f-ce63-4ec9-fab2-af552bca7411"
      },
      "outputs": [
        {
          "name": "stdout",
          "output_type": "stream",
          "text": [
            "tokenized_text : ['[CLS]', 'i', 'eat', 'apple', '[SEP]']\n",
            "indexed_tokens : [101, 1045, 4521, 6207, 102]\n",
            "segments_ids : [1, 1, 1, 1, 1]\n",
            "items returned by Bert model :  odict_keys(['last_hidden_state', 'pooler_output', 'hidden_states'])\n",
            "last_hidden_state [1, 5, 768]\n",
            "pooler_output [1, 768]\n",
            "hidden_states len :  13\n",
            "BertEmbeddings :  [1, 5, 768]\n",
            "Transformer 1 :  [1, 5, 768]\n",
            "Transformer 2 :  [1, 5, 768]\n",
            "Transformer 3 :  [1, 5, 768]\n",
            "Transformer 4 :  [1, 5, 768]\n",
            "Transformer 5 :  [1, 5, 768]\n",
            "Transformer 6 :  [1, 5, 768]\n",
            "Transformer 7 :  [1, 5, 768]\n",
            "Transformer 8 :  [1, 5, 768]\n",
            "Transformer 9 :  [1, 5, 768]\n",
            "Transformer 10 :  [1, 5, 768]\n",
            "Transformer 11 :  [1, 5, 768]\n",
            "Transformer 12 :  [1, 5, 768]\n"
          ]
        }
      ],
      "source": [
        "#Lets try to do 1 cycle of Bert encoding\n",
        "sentence = \"i eat apple\"\n",
        "#1) append [CLS] and [SEP]\n",
        "bert_text = \"[CLS] \" + sentence + \" [SEP]\"\n",
        "\n",
        "#2)Tokenize text\n",
        "tokenized_text = tokenizer_nottrained.tokenize(bert_text)\n",
        "print(\"tokenized_text :\",tokenized_text)\n",
        "\n",
        "#3)Convert tokens to ids in Bert vocublary\n",
        "indexed_tokens = tokenizer_nottrained.convert_tokens_to_ids(tokenized_text)\n",
        "print(\"indexed_tokens :\",indexed_tokens)\n",
        "\n",
        "#4)Prepare segment ids(since we have single sentence all 1)\n",
        "segments_ids = [1] * len(tokenized_text)\n",
        "print(\"segments_ids :\",segments_ids)\n",
        "#5)Convert to tensor and call model\n",
        "tokens_tensor = torch.tensor([indexed_tokens])\n",
        "segments_tensors = torch.tensor([segments_ids])  \n",
        "outputs = bert_model_nottrained(tokens_tensor, segments_tensors)\n",
        "print(\"items returned by Bert model : \",outputs.keys())\n",
        "\n",
        "print(\"last_hidden_state\",list(outputs[\"last_hidden_state\"].shape) )\n",
        "\n",
        "print(\"pooler_output\",list(outputs[\"pooler_output\"].shape ) )\n",
        "\n",
        "\n",
        "print(\"hidden_states len : \", len(outputs[\"hidden_states\"]) )\n",
        "for i in range(len(outputs[\"hidden_states\"])):\n",
        "    if i == 0:\n",
        "        print(\"BertEmbeddings : \",list( outputs[\"hidden_states\"][i].shape ))\n",
        "    else:    \n",
        "        print(\"Transformer \"+str(i)+\" : \",list( outputs[\"hidden_states\"][i].shape ))"
      ]
    },
    {
      "cell_type": "code",
      "execution_count": null,
      "metadata": {
        "id": "aXEQ5qURWwh2"
      },
      "outputs": [],
      "source": [
        "# NOT ORIGINAL\n",
        "# def get_word_embeddings(tokenizer_,model_,sentence,word):\n",
        "#   embeddings = get_word_embeddings_sum(tokenizer_,model_, sentence )\n",
        "#   embeddings_as_pairs = get_embeddings_as_pair(tokenizer_,model_,sentence,embeddings)\n",
        "#   word_embeddings = []\n",
        "#   for pair in embeddings_as_pairs:\n",
        "#     if pair.word == word:\n",
        "#       return pair.vector\n",
        "      "
      ]
    },
    {
      "cell_type": "code",
      "execution_count": null,
      "metadata": {
        "id": "dgIynlkBW158"
      },
      "outputs": [],
      "source": [
        "word_embeddings = get_word_embeddings(tokenizer_nottrained,bert_model_nottrained,sentences[0],\"eat\")"
      ]
    },
    {
      "cell_type": "code",
      "execution_count": null,
      "metadata": {
        "colab": {
          "base_uri": "https://localhost:8080/"
        },
        "id": "qkM1LUCo20TT",
        "outputId": "1dea4c90-9564-4a63-eb13-c5fa1af042ee"
      },
      "outputs": [
        {
          "data": {
            "text/plain": [
              "1"
            ]
          },
          "execution_count": 14,
          "metadata": {},
          "output_type": "execute_result"
        }
      ],
      "source": [
        "# Contextual embedding without fine-tuning for the word 'eat' in sentence 'i want to eat bread'\n",
        "#print(word_embeddings.word, len(word_embeddings.vector))\n",
        "len(word_embeddings)"
      ]
    },
    {
      "cell_type": "code",
      "execution_count": null,
      "metadata": {
        "id": "285lIZUiT-if"
      },
      "outputs": [],
      "source": [
        "# def get_word_embeddings(tokenizer_,model_,sentence,word):\n",
        "#   embeddings = get_word_embeddings_sum(tokenizer_,model_, sentence )\n",
        "#   embeddings_as_pairs = get_embeddings_as_pair(tokenizer_,model_,sentence,embeddings)\n",
        "#   word_embeddings = []\n",
        "#   for pair in embeddings_as_pairs:\n",
        "#     if pair.word == word:\n",
        "#       word_embeddings.append( pair )\n",
        "#   return word_embeddings  "
      ]
    },
    {
      "cell_type": "code",
      "execution_count": null,
      "metadata": {
        "colab": {
          "base_uri": "https://localhost:8080/",
          "height": 592
        },
        "id": "UTUr5-xGTjGx",
        "outputId": "37d57cb5-348b-45bd-c7bc-c993783b1fc7"
      },
      "outputs": [
        {
          "data": {
            "image/png": "[encoded data removed]",
            "text/plain": [
              "<Figure size 720x720 with 1 Axes>"
            ]
          },
          "metadata": {},
          "output_type": "display_data"
        }
      ],
      "source": [
        "eat_sentences = [ s for s in sentences if s.find(\"eat\") > 0 ]\n",
        "word_embeddings = [ get_word_embeddings(tokenizer_nottrained,bert_model_nottrained,s,\"eat\")[0].vector.numpy() for s in eat_sentences ]\n",
        "\n",
        "dump_on_surface(word_embeddings, eat_sentences, dump_3d=False,fitting=\"tsne\",color_by=\"verb\")"
      ]
    },
    {
      "cell_type": "code",
      "execution_count": null,
      "metadata": {
        "id": "PUP7_SyMUDgn"
      },
      "outputs": [],
      "source": [
        "#len(word_embeddings)\n",
        "w1 = word_embeddings[0]\n",
        "w2 = word_embeddings[1]\n",
        "w_total = [w1, w2]\n",
        "eat_total = [eat_sentences[0], eat_sentences[1]]\n",
        "dump_on_surface(w_total,eat_total,dump_3d=False,fitting=\"tsne\",color_by=\"object\")"
      ]
    },
    {
      "cell_type": "code",
      "execution_count": null,
      "metadata": {
        "id": "JbQrFQ9nW6b9"
      },
      "outputs": [],
      "source": [
        "# Lets take sentences with verb eat and ONLY get embedding of verb EAT\n",
        "# Below are embedding of single verb eat with their sentence\n",
        "# see how embeddings for them are generated\n",
        "# results seems nice, we have 3 patterns can,want,verb and seems they are scattered over space\n",
        "\n",
        "#eat_sentences = [ s for s in sentences if s.find(\"eat\") > 0 ]\n",
        "#word_embeddings = [ get_word_embeddings(tokenizer_nottrained,bert_model_nottrained,s,\"eat\")[0].vector.numpy() for s in eat_sentences ]\n",
        "\n",
        "#eat_sentences = sentences[0]\n",
        "dump_on_surface(word_embeddings,eat_sentences,dump_3d=False,fitting=\"tsne\",color_by=\"object\")"
      ]
    },
    {
      "cell_type": "markdown",
      "metadata": {
        "id": "CxdJxxmKW9Vr"
      },
      "source": [
        "## Extra type"
      ]
    },
    {
      "cell_type": "code",
      "execution_count": null,
      "metadata": {
        "id": "GA8YrmbKXGP6"
      },
      "outputs": [],
      "source": [
        "#For sentence embedding we can try 3 approaches\n",
        "#According to your problem best approach can change.\n",
        "#At internet I read CLS is not a good solution if u dont train CLS for your task.\n",
        "\n",
        "#1)Get CLS as sentence embedding\n",
        "outputs = [ get_bert_output_cls(tokenizer_nottrained,bert_model_nottrained,s).detach().numpy() for s in sentences]\n",
        "dump_on_surface(outputs,sentences,fitting=\"pca\",dump_3d=False,dump_2d=True,color_by=\"object\",title=\"Sentence by CLS\")\n",
        "\n",
        "#2)Get Pooler layer output\n",
        "outputs = [ get_bert_output_pooled(tokenizer_nottrained,bert_model_nottrained,s).detach().numpy() for s in sentences]\n",
        "dump_on_surface(outputs,sentences,fitting=\"pca\",dump_3d=False,dump_2d=True,color_by=\"object\",title=\"Sentence by Pooler\")\n",
        "\n",
        "#3)Get a combination of hidden layers\n",
        "outputs = [ get_sentence_embedding(tokenizer_nottrained,bert_model_nottrained,s,type=\"meansum\").detach().numpy() for s in sentences]\n",
        "dump_on_surface(outputs,sentences,fitting=\"pca\",dump_3d=False,dump_2d=True,color_by=\"object\",title=\"Sentence by Hidden Layers\")\n",
        "\n",
        "#I think 3rd method , Hidden Layers seems best, because eat and drink are more near\n",
        "#it makes sense when they are near"
      ]
    },
    {
      "cell_type": "code",
      "execution_count": null,
      "metadata": {
        "id": "NGZ0ypBhXKI8"
      },
      "outputs": [],
      "source": [
        "#Now I want to see what all hidden layers are generating\n",
        "#Infact at first layers , groups are more clear,\n",
        "#But at the end everything gets more closer.\n",
        "for i in range(13):\n",
        "    title = \"Tranformer\"+str(i) if i > 0 else \"Embedding\"\n",
        "    pooler_outputs = [ get_sentence_embedding(tokenizer_nottrained,bert_model_nottrained,s,layer_start=i,layer_end=i+1,type=\"meanmean\").detach().numpy() for s in sentences]\n",
        "    #pooler_outputs = [ get_sentence_embedding(tokenizer_nottrained,bert_model_nottrained,s,layer_start=i,layer_end=i+1,type=\"meansum\").detach().numpy() for s in sentences]\n",
        "    #show_embeddings([],[],pooler_outputs,sentences,fitting=\"pca\")\n",
        "    dump_on_surface(pooler_outputs,sentences,fitting=\"pca\",dump_3d=False,dump_2d=True,color_by=\"object\",title=title)"
      ]
    }
  ],
  "metadata": {
    "colab": {
      "collapsed_sections": [
        "SmOUzwenV8o5",
        "aAdGJCFiWF3x",
        "zspvDB1dWaXG",
        "CxdJxxmKW9Vr"
      ],
      "provenance": []
    },
    "kernelspec": {
      "display_name": "Python 3",
      "name": "python3"
    },
    "language_info": {
      "name": "python"
    },
    "widgets": {
      "application/vnd.jupyter.widget-state+json": {
        "090a107c3179485386e98c4638c8886f": {
          "model_module": "@jupyter-widgets/controls",
          "model_module_version": "1.5.0",
          "model_name": "DescriptionStyleModel",
          "state": {
            "_model_module": "@jupyter-widgets/controls",
            "_model_module_version": "1.5.0",
            "_model_name": "DescriptionStyleModel",
            "_view_count": null,
            "_view_module": "@jupyter-widgets/base",
            "_view_module_version": "1.2.0",
            "_view_name": "StyleView",
            "description_width": ""
          }
        },
        "0fa038c0cdda4e84beb16fa826026188": {
          "model_module": "@jupyter-widgets/controls",
          "model_module_version": "1.5.0",
          "model_name": "HTMLModel",
          "state": {
            "_dom_classes": [],
            "_model_module": "@jupyter-widgets/controls",
            "_model_module_version": "1.5.0",
            "_model_name": "HTMLModel",
            "_view_count": null,
            "_view_module": "@jupyter-widgets/controls",
            "_view_module_version": "1.5.0",
            "_view_name": "HTMLView",
            "description": "",
            "description_tooltip": null,
            "layout": "IPY_MODEL_80ca2df865cf4f34832e39201c23bf9e",
            "placeholder": "​",
            "style": "IPY_MODEL_090a107c3179485386e98c4638c8886f",
            "value": " 232k/232k [00:00&lt;00:00, 331kB/s]"
          }
        },
        "14b7f6e37efa4281972fc5edab434132": {
          "model_module": "@jupyter-widgets/controls",
          "model_module_version": "1.5.0",
          "model_name": "DescriptionStyleModel",
          "state": {
            "_model_module": "@jupyter-widgets/controls",
            "_model_module_version": "1.5.0",
            "_model_name": "DescriptionStyleModel",
            "_view_count": null,
            "_view_module": "@jupyter-widgets/base",
            "_view_module_version": "1.2.0",
            "_view_name": "StyleView",
            "description_width": ""
          }
        },
        "26c373e8b3e94a97a892cf8dbeb4773d": {
          "model_module": "@jupyter-widgets/controls",
          "model_module_version": "1.5.0",
          "model_name": "DescriptionStyleModel",
          "state": {
            "_model_module": "@jupyter-widgets/controls",
            "_model_module_version": "1.5.0",
            "_model_name": "DescriptionStyleModel",
            "_view_count": null,
            "_view_module": "@jupyter-widgets/base",
            "_view_module_version": "1.2.0",
            "_view_name": "StyleView",
            "description_width": ""
          }
        },
        "2a58198621304d499bb20ba07384b16f": {
          "model_module": "@jupyter-widgets/controls",
          "model_module_version": "1.5.0",
          "model_name": "HTMLModel",
          "state": {
            "_dom_classes": [],
            "_model_module": "@jupyter-widgets/controls",
            "_model_module_version": "1.5.0",
            "_model_name": "HTMLModel",
            "_view_count": null,
            "_view_module": "@jupyter-widgets/controls",
            "_view_module_version": "1.5.0",
            "_view_name": "HTMLView",
            "description": "",
            "description_tooltip": null,
            "layout": "IPY_MODEL_3cb562fc8e044ed49abe072ec0dedc00",
            "placeholder": "​",
            "style": "IPY_MODEL_26c373e8b3e94a97a892cf8dbeb4773d",
            "value": " 28.0/28.0 [00:00&lt;00:00, 810B/s]"
          }
        },
        "2d634187adbc4058a723789b58b0680a": {
          "model_module": "@jupyter-widgets/base",
          "model_module_version": "1.2.0",
          "model_name": "LayoutModel",
          "state": {
            "_model_module": "@jupyter-widgets/base",
            "_model_module_version": "1.2.0",
            "_model_name": "LayoutModel",
            "_view_count": null,
            "_view_module": "@jupyter-widgets/base",
            "_view_module_version": "1.2.0",
            "_view_name": "LayoutView",
            "align_content": null,
            "align_items": null,
            "align_self": null,
            "border": null,
            "bottom": null,
            "display": null,
            "flex": null,
            "flex_flow": null,
            "grid_area": null,
            "grid_auto_columns": null,
            "grid_auto_flow": null,
            "grid_auto_rows": null,
            "grid_column": null,
            "grid_gap": null,
            "grid_row": null,
            "grid_template_areas": null,
            "grid_template_columns": null,
            "grid_template_rows": null,
            "height": null,
            "justify_content": null,
            "justify_items": null,
            "left": null,
            "margin": null,
            "max_height": null,
            "max_width": null,
            "min_height": null,
            "min_width": null,
            "object_fit": null,
            "object_position": null,
            "order": null,
            "overflow": null,
            "overflow_x": null,
            "overflow_y": null,
            "padding": null,
            "right": null,
            "top": null,
            "visibility": null,
            "width": null
          }
        },
        "2e27b6e2ab3f4afa8c2885123db62175": {
          "model_module": "@jupyter-widgets/base",
          "model_module_version": "1.2.0",
          "model_name": "LayoutModel",
          "state": {
            "_model_module": "@jupyter-widgets/base",
            "_model_module_version": "1.2.0",
            "_model_name": "LayoutModel",
            "_view_count": null,
            "_view_module": "@jupyter-widgets/base",
            "_view_module_version": "1.2.0",
            "_view_name": "LayoutView",
            "align_content": null,
            "align_items": null,
            "align_self": null,
            "border": null,
            "bottom": null,
            "display": null,
            "flex": null,
            "flex_flow": null,
            "grid_area": null,
            "grid_auto_columns": null,
            "grid_auto_flow": null,
            "grid_auto_rows": null,
            "grid_column": null,
            "grid_gap": null,
            "grid_row": null,
            "grid_template_areas": null,
            "grid_template_columns": null,
            "grid_template_rows": null,
            "height": null,
            "justify_content": null,
            "justify_items": null,
            "left": null,
            "margin": null,
            "max_height": null,
            "max_width": null,
            "min_height": null,
            "min_width": null,
            "object_fit": null,
            "object_position": null,
            "order": null,
            "overflow": null,
            "overflow_x": null,
            "overflow_y": null,
            "padding": null,
            "right": null,
            "top": null,
            "visibility": null,
            "width": null
          }
        },
        "378dd4297c61480cb60285bd8f642cfa": {
          "model_module": "@jupyter-widgets/controls",
          "model_module_version": "1.5.0",
          "model_name": "HBoxModel",
          "state": {
            "_dom_classes": [],
            "_model_module": "@jupyter-widgets/controls",
            "_model_module_version": "1.5.0",
            "_model_name": "HBoxModel",
            "_view_count": null,
            "_view_module": "@jupyter-widgets/controls",
            "_view_module_version": "1.5.0",
            "_view_name": "HBoxView",
            "box_style": "",
            "children": [
              "IPY_MODEL_5d7e6715cb1947fdad853e856982b548",
              "IPY_MODEL_716c2c66a7c84c3aad3eebc114732e70",
              "IPY_MODEL_94e44a3c7be549ad86525aad0aabb6f2"
            ],
            "layout": "IPY_MODEL_90cfe29f75874de2a89b8952f42446b5"
          }
        },
        "396f667dde4a4a3fb6d72a37ddb09a10": {
          "model_module": "@jupyter-widgets/controls",
          "model_module_version": "1.5.0",
          "model_name": "DescriptionStyleModel",
          "state": {
            "_model_module": "@jupyter-widgets/controls",
            "_model_module_version": "1.5.0",
            "_model_name": "DescriptionStyleModel",
            "_view_count": null,
            "_view_module": "@jupyter-widgets/base",
            "_view_module_version": "1.2.0",
            "_view_name": "StyleView",
            "description_width": ""
          }
        },
        "3cb562fc8e044ed49abe072ec0dedc00": {
          "model_module": "@jupyter-widgets/base",
          "model_module_version": "1.2.0",
          "model_name": "LayoutModel",
          "state": {
            "_model_module": "@jupyter-widgets/base",
            "_model_module_version": "1.2.0",
            "_model_name": "LayoutModel",
            "_view_count": null,
            "_view_module": "@jupyter-widgets/base",
            "_view_module_version": "1.2.0",
            "_view_name": "LayoutView",
            "align_content": null,
            "align_items": null,
            "align_self": null,
            "border": null,
            "bottom": null,
            "display": null,
            "flex": null,
            "flex_flow": null,
            "grid_area": null,
            "grid_auto_columns": null,
            "grid_auto_flow": null,
            "grid_auto_rows": null,
            "grid_column": null,
            "grid_gap": null,
            "grid_row": null,
            "grid_template_areas": null,
            "grid_template_columns": null,
            "grid_template_rows": null,
            "height": null,
            "justify_content": null,
            "justify_items": null,
            "left": null,
            "margin": null,
            "max_height": null,
            "max_width": null,
            "min_height": null,
            "min_width": null,
            "object_fit": null,
            "object_position": null,
            "order": null,
            "overflow": null,
            "overflow_x": null,
            "overflow_y": null,
            "padding": null,
            "right": null,
            "top": null,
            "visibility": null,
            "width": null
          }
        },
        "49062a5bc7d34929af05d8ccaf2c74ff": {
          "model_module": "@jupyter-widgets/base",
          "model_module_version": "1.2.0",
          "model_name": "LayoutModel",
          "state": {
            "_model_module": "@jupyter-widgets/base",
            "_model_module_version": "1.2.0",
            "_model_name": "LayoutModel",
            "_view_count": null,
            "_view_module": "@jupyter-widgets/base",
            "_view_module_version": "1.2.0",
            "_view_name": "LayoutView",
            "align_content": null,
            "align_items": null,
            "align_self": null,
            "border": null,
            "bottom": null,
            "display": null,
            "flex": null,
            "flex_flow": null,
            "grid_area": null,
            "grid_auto_columns": null,
            "grid_auto_flow": null,
            "grid_auto_rows": null,
            "grid_column": null,
            "grid_gap": null,
            "grid_row": null,
            "grid_template_areas": null,
            "grid_template_columns": null,
            "grid_template_rows": null,
            "height": null,
            "justify_content": null,
            "justify_items": null,
            "left": null,
            "margin": null,
            "max_height": null,
            "max_width": null,
            "min_height": null,
            "min_width": null,
            "object_fit": null,
            "object_position": null,
            "order": null,
            "overflow": null,
            "overflow_x": null,
            "overflow_y": null,
            "padding": null,
            "right": null,
            "top": null,
            "visibility": null,
            "width": null
          }
        },
        "4a9fba8416fb4c7c975ae188ab291703": {
          "model_module": "@jupyter-widgets/controls",
          "model_module_version": "1.5.0",
          "model_name": "FloatProgressModel",
          "state": {
            "_dom_classes": [],
            "_model_module": "@jupyter-widgets/controls",
            "_model_module_version": "1.5.0",
            "_model_name": "FloatProgressModel",
            "_view_count": null,
            "_view_module": "@jupyter-widgets/controls",
            "_view_module_version": "1.5.0",
            "_view_name": "ProgressView",
            "bar_style": "success",
            "description": "",
            "description_tooltip": null,
            "layout": "IPY_MODEL_a19dd4b1d62c404688f4b296a100b5f4",
            "max": 483,
            "min": 0,
            "orientation": "horizontal",
            "style": "IPY_MODEL_e1e9e0c94d7a4beca98570e5f8615efb",
            "value": 483
          }
        },
        "4dfa98af37f84a32a3d12d56b227a04d": {
          "model_module": "@jupyter-widgets/controls",
          "model_module_version": "1.5.0",
          "model_name": "DescriptionStyleModel",
          "state": {
            "_model_module": "@jupyter-widgets/controls",
            "_model_module_version": "1.5.0",
            "_model_name": "DescriptionStyleModel",
            "_view_count": null,
            "_view_module": "@jupyter-widgets/base",
            "_view_module_version": "1.2.0",
            "_view_name": "StyleView",
            "description_width": ""
          }
        },
        "4e9e2c08f85242168b48d0d01356bb82": {
          "model_module": "@jupyter-widgets/controls",
          "model_module_version": "1.5.0",
          "model_name": "HBoxModel",
          "state": {
            "_dom_classes": [],
            "_model_module": "@jupyter-widgets/controls",
            "_model_module_version": "1.5.0",
            "_model_name": "HBoxModel",
            "_view_count": null,
            "_view_module": "@jupyter-widgets/controls",
            "_view_module_version": "1.5.0",
            "_view_name": "HBoxView",
            "box_style": "",
            "children": [
              "IPY_MODEL_584ea552b5234663ae12921c5c6cf9b7",
              "IPY_MODEL_8de8315243b849e2af59830cc4930eeb",
              "IPY_MODEL_2a58198621304d499bb20ba07384b16f"
            ],
            "layout": "IPY_MODEL_852d0dba563b42909943baaf267d2392"
          }
        },
        "56f5251d5ed04c19a9ba2a5afba74c47": {
          "model_module": "@jupyter-widgets/base",
          "model_module_version": "1.2.0",
          "model_name": "LayoutModel",
          "state": {
            "_model_module": "@jupyter-widgets/base",
            "_model_module_version": "1.2.0",
            "_model_name": "LayoutModel",
            "_view_count": null,
            "_view_module": "@jupyter-widgets/base",
            "_view_module_version": "1.2.0",
            "_view_name": "LayoutView",
            "align_content": null,
            "align_items": null,
            "align_self": null,
            "border": null,
            "bottom": null,
            "display": null,
            "flex": null,
            "flex_flow": null,
            "grid_area": null,
            "grid_auto_columns": null,
            "grid_auto_flow": null,
            "grid_auto_rows": null,
            "grid_column": null,
            "grid_gap": null,
            "grid_row": null,
            "grid_template_areas": null,
            "grid_template_columns": null,
            "grid_template_rows": null,
            "height": null,
            "justify_content": null,
            "justify_items": null,
            "left": null,
            "margin": null,
            "max_height": null,
            "max_width": null,
            "min_height": null,
            "min_width": null,
            "object_fit": null,
            "object_position": null,
            "order": null,
            "overflow": null,
            "overflow_x": null,
            "overflow_y": null,
            "padding": null,
            "right": null,
            "top": null,
            "visibility": null,
            "width": null
          }
        },
        "584ea552b5234663ae12921c5c6cf9b7": {
          "model_module": "@jupyter-widgets/controls",
          "model_module_version": "1.5.0",
          "model_name": "HTMLModel",
          "state": {
            "_dom_classes": [],
            "_model_module": "@jupyter-widgets/controls",
            "_model_module_version": "1.5.0",
            "_model_name": "HTMLModel",
            "_view_count": null,
            "_view_module": "@jupyter-widgets/controls",
            "_view_module_version": "1.5.0",
            "_view_name": "HTMLView",
            "description": "",
            "description_tooltip": null,
            "layout": "IPY_MODEL_56f5251d5ed04c19a9ba2a5afba74c47",
            "placeholder": "​",
            "style": "IPY_MODEL_97635a053ae34e6f9e74726b3debf5a9",
            "value": "Downloading: 100%"
          }
        },
        "5d7e6715cb1947fdad853e856982b548": {
          "model_module": "@jupyter-widgets/controls",
          "model_module_version": "1.5.0",
          "model_name": "HTMLModel",
          "state": {
            "_dom_classes": [],
            "_model_module": "@jupyter-widgets/controls",
            "_model_module_version": "1.5.0",
            "_model_name": "HTMLModel",
            "_view_count": null,
            "_view_module": "@jupyter-widgets/controls",
            "_view_module_version": "1.5.0",
            "_view_name": "HTMLView",
            "description": "",
            "description_tooltip": null,
            "layout": "IPY_MODEL_ec7086ea90664458a9511e68c25a29ca",
            "placeholder": "​",
            "style": "IPY_MODEL_4dfa98af37f84a32a3d12d56b227a04d",
            "value": "Downloading: 100%"
          }
        },
        "62705ea31c9e41c2915b0d9d7750aca0": {
          "model_module": "@jupyter-widgets/controls",
          "model_module_version": "1.5.0",
          "model_name": "HBoxModel",
          "state": {
            "_dom_classes": [],
            "_model_module": "@jupyter-widgets/controls",
            "_model_module_version": "1.5.0",
            "_model_name": "HBoxModel",
            "_view_count": null,
            "_view_module": "@jupyter-widgets/controls",
            "_view_module_version": "1.5.0",
            "_view_name": "HBoxView",
            "box_style": "",
            "children": [
              "IPY_MODEL_c50e876c34094abc9a8ca63376589b7c",
              "IPY_MODEL_4a9fba8416fb4c7c975ae188ab291703",
              "IPY_MODEL_ac2f0f12d38240928a3e412bde0d9a61"
            ],
            "layout": "IPY_MODEL_ab4b8b5e810a435693163079b8884e43"
          }
        },
        "6bb0127e9a9445a7a8ff6be8ede96d0b": {
          "model_module": "@jupyter-widgets/base",
          "model_module_version": "1.2.0",
          "model_name": "LayoutModel",
          "state": {
            "_model_module": "@jupyter-widgets/base",
            "_model_module_version": "1.2.0",
            "_model_name": "LayoutModel",
            "_view_count": null,
            "_view_module": "@jupyter-widgets/base",
            "_view_module_version": "1.2.0",
            "_view_name": "LayoutView",
            "align_content": null,
            "align_items": null,
            "align_self": null,
            "border": null,
            "bottom": null,
            "display": null,
            "flex": null,
            "flex_flow": null,
            "grid_area": null,
            "grid_auto_columns": null,
            "grid_auto_flow": null,
            "grid_auto_rows": null,
            "grid_column": null,
            "grid_gap": null,
            "grid_row": null,
            "grid_template_areas": null,
            "grid_template_columns": null,
            "grid_template_rows": null,
            "height": null,
            "justify_content": null,
            "justify_items": null,
            "left": null,
            "margin": null,
            "max_height": null,
            "max_width": null,
            "min_height": null,
            "min_width": null,
            "object_fit": null,
            "object_position": null,
            "order": null,
            "overflow": null,
            "overflow_x": null,
            "overflow_y": null,
            "padding": null,
            "right": null,
            "top": null,
            "visibility": null,
            "width": null
          }
        },
        "6f23300f1cee452bba8e73923b2293ee": {
          "model_module": "@jupyter-widgets/controls",
          "model_module_version": "1.5.0",
          "model_name": "DescriptionStyleModel",
          "state": {
            "_model_module": "@jupyter-widgets/controls",
            "_model_module_version": "1.5.0",
            "_model_name": "DescriptionStyleModel",
            "_view_count": null,
            "_view_module": "@jupyter-widgets/base",
            "_view_module_version": "1.2.0",
            "_view_name": "StyleView",
            "description_width": ""
          }
        },
        "71622b35094642c595a8899007932e2d": {
          "model_module": "@jupyter-widgets/controls",
          "model_module_version": "1.5.0",
          "model_name": "ProgressStyleModel",
          "state": {
            "_model_module": "@jupyter-widgets/controls",
            "_model_module_version": "1.5.0",
            "_model_name": "ProgressStyleModel",
            "_view_count": null,
            "_view_module": "@jupyter-widgets/base",
            "_view_module_version": "1.2.0",
            "_view_name": "StyleView",
            "bar_color": null,
            "description_width": ""
          }
        },
        "716c2c66a7c84c3aad3eebc114732e70": {
          "model_module": "@jupyter-widgets/controls",
          "model_module_version": "1.5.0",
          "model_name": "FloatProgressModel",
          "state": {
            "_dom_classes": [],
            "_model_module": "@jupyter-widgets/controls",
            "_model_module_version": "1.5.0",
            "_model_name": "FloatProgressModel",
            "_view_count": null,
            "_view_module": "@jupyter-widgets/controls",
            "_view_module_version": "1.5.0",
            "_view_name": "ProgressView",
            "bar_style": "success",
            "description": "",
            "description_tooltip": null,
            "layout": "IPY_MODEL_875e02fa10c14c848cbc8b301495179a",
            "max": 570,
            "min": 0,
            "orientation": "horizontal",
            "style": "IPY_MODEL_78d80ccc6d3a4b8f8d10b27b1d13f95d",
            "value": 570
          }
        },
        "78d80ccc6d3a4b8f8d10b27b1d13f95d": {
          "model_module": "@jupyter-widgets/controls",
          "model_module_version": "1.5.0",
          "model_name": "ProgressStyleModel",
          "state": {
            "_model_module": "@jupyter-widgets/controls",
            "_model_module_version": "1.5.0",
            "_model_name": "ProgressStyleModel",
            "_view_count": null,
            "_view_module": "@jupyter-widgets/base",
            "_view_module_version": "1.2.0",
            "_view_name": "StyleView",
            "bar_color": null,
            "description_width": ""
          }
        },
        "808f23287879478ca7808cc225a900a2": {
          "model_module": "@jupyter-widgets/controls",
          "model_module_version": "1.5.0",
          "model_name": "HTMLModel",
          "state": {
            "_dom_classes": [],
            "_model_module": "@jupyter-widgets/controls",
            "_model_module_version": "1.5.0",
            "_model_name": "HTMLModel",
            "_view_count": null,
            "_view_module": "@jupyter-widgets/controls",
            "_view_module_version": "1.5.0",
            "_view_name": "HTMLView",
            "description": "",
            "description_tooltip": null,
            "layout": "IPY_MODEL_e6abef6904b64ebba8ec3144e27c79df",
            "placeholder": "​",
            "style": "IPY_MODEL_6f23300f1cee452bba8e73923b2293ee",
            "value": "Downloading: 100%"
          }
        },
        "80ca2df865cf4f34832e39201c23bf9e": {
          "model_module": "@jupyter-widgets/base",
          "model_module_version": "1.2.0",
          "model_name": "LayoutModel",
          "state": {
            "_model_module": "@jupyter-widgets/base",
            "_model_module_version": "1.2.0",
            "_model_name": "LayoutModel",
            "_view_count": null,
            "_view_module": "@jupyter-widgets/base",
            "_view_module_version": "1.2.0",
            "_view_name": "LayoutView",
            "align_content": null,
            "align_items": null,
            "align_self": null,
            "border": null,
            "bottom": null,
            "display": null,
            "flex": null,
            "flex_flow": null,
            "grid_area": null,
            "grid_auto_columns": null,
            "grid_auto_flow": null,
            "grid_auto_rows": null,
            "grid_column": null,
            "grid_gap": null,
            "grid_row": null,
            "grid_template_areas": null,
            "grid_template_columns": null,
            "grid_template_rows": null,
            "height": null,
            "justify_content": null,
            "justify_items": null,
            "left": null,
            "margin": null,
            "max_height": null,
            "max_width": null,
            "min_height": null,
            "min_width": null,
            "object_fit": null,
            "object_position": null,
            "order": null,
            "overflow": null,
            "overflow_x": null,
            "overflow_y": null,
            "padding": null,
            "right": null,
            "top": null,
            "visibility": null,
            "width": null
          }
        },
        "81825a58f05a4d1e86bdbde960710b01": {
          "model_module": "@jupyter-widgets/controls",
          "model_module_version": "1.5.0",
          "model_name": "HTMLModel",
          "state": {
            "_dom_classes": [],
            "_model_module": "@jupyter-widgets/controls",
            "_model_module_version": "1.5.0",
            "_model_name": "HTMLModel",
            "_view_count": null,
            "_view_module": "@jupyter-widgets/controls",
            "_view_module_version": "1.5.0",
            "_view_name": "HTMLView",
            "description": "",
            "description_tooltip": null,
            "layout": "IPY_MODEL_49062a5bc7d34929af05d8ccaf2c74ff",
            "placeholder": "​",
            "style": "IPY_MODEL_8673c61367b348fb82074a3af60a45ae",
            "value": "Downloading: 100%"
          }
        },
        "852d0dba563b42909943baaf267d2392": {
          "model_module": "@jupyter-widgets/base",
          "model_module_version": "1.2.0",
          "model_name": "LayoutModel",
          "state": {
            "_model_module": "@jupyter-widgets/base",
            "_model_module_version": "1.2.0",
            "_model_name": "LayoutModel",
            "_view_count": null,
            "_view_module": "@jupyter-widgets/base",
            "_view_module_version": "1.2.0",
            "_view_name": "LayoutView",
            "align_content": null,
            "align_items": null,
            "align_self": null,
            "border": null,
            "bottom": null,
            "display": null,
            "flex": null,
            "flex_flow": null,
            "grid_area": null,
            "grid_auto_columns": null,
            "grid_auto_flow": null,
            "grid_auto_rows": null,
            "grid_column": null,
            "grid_gap": null,
            "grid_row": null,
            "grid_template_areas": null,
            "grid_template_columns": null,
            "grid_template_rows": null,
            "height": null,
            "justify_content": null,
            "justify_items": null,
            "left": null,
            "margin": null,
            "max_height": null,
            "max_width": null,
            "min_height": null,
            "min_width": null,
            "object_fit": null,
            "object_position": null,
            "order": null,
            "overflow": null,
            "overflow_x": null,
            "overflow_y": null,
            "padding": null,
            "right": null,
            "top": null,
            "visibility": null,
            "width": null
          }
        },
        "85be3431c3c74d108556a5bdd872f160": {
          "model_module": "@jupyter-widgets/controls",
          "model_module_version": "1.5.0",
          "model_name": "FloatProgressModel",
          "state": {
            "_dom_classes": [],
            "_model_module": "@jupyter-widgets/controls",
            "_model_module_version": "1.5.0",
            "_model_name": "FloatProgressModel",
            "_view_count": null,
            "_view_module": "@jupyter-widgets/controls",
            "_view_module_version": "1.5.0",
            "_view_name": "ProgressView",
            "bar_style": "success",
            "description": "",
            "description_tooltip": null,
            "layout": "IPY_MODEL_928e67e5e3d04763a9f76149e35e8aab",
            "max": 440473133,
            "min": 0,
            "orientation": "horizontal",
            "style": "IPY_MODEL_bfacdc01bab74e539a34b692a3e0603e",
            "value": 440473133
          }
        },
        "8673c61367b348fb82074a3af60a45ae": {
          "model_module": "@jupyter-widgets/controls",
          "model_module_version": "1.5.0",
          "model_name": "DescriptionStyleModel",
          "state": {
            "_model_module": "@jupyter-widgets/controls",
            "_model_module_version": "1.5.0",
            "_model_name": "DescriptionStyleModel",
            "_view_count": null,
            "_view_module": "@jupyter-widgets/base",
            "_view_module_version": "1.2.0",
            "_view_name": "StyleView",
            "description_width": ""
          }
        },
        "875e02fa10c14c848cbc8b301495179a": {
          "model_module": "@jupyter-widgets/base",
          "model_module_version": "1.2.0",
          "model_name": "LayoutModel",
          "state": {
            "_model_module": "@jupyter-widgets/base",
            "_model_module_version": "1.2.0",
            "_model_name": "LayoutModel",
            "_view_count": null,
            "_view_module": "@jupyter-widgets/base",
            "_view_module_version": "1.2.0",
            "_view_name": "LayoutView",
            "align_content": null,
            "align_items": null,
            "align_self": null,
            "border": null,
            "bottom": null,
            "display": null,
            "flex": null,
            "flex_flow": null,
            "grid_area": null,
            "grid_auto_columns": null,
            "grid_auto_flow": null,
            "grid_auto_rows": null,
            "grid_column": null,
            "grid_gap": null,
            "grid_row": null,
            "grid_template_areas": null,
            "grid_template_columns": null,
            "grid_template_rows": null,
            "height": null,
            "justify_content": null,
            "justify_items": null,
            "left": null,
            "margin": null,
            "max_height": null,
            "max_width": null,
            "min_height": null,
            "min_width": null,
            "object_fit": null,
            "object_position": null,
            "order": null,
            "overflow": null,
            "overflow_x": null,
            "overflow_y": null,
            "padding": null,
            "right": null,
            "top": null,
            "visibility": null,
            "width": null
          }
        },
        "8acb6df732354590aef101eebe456350": {
          "model_module": "@jupyter-widgets/controls",
          "model_module_version": "1.5.0",
          "model_name": "ProgressStyleModel",
          "state": {
            "_model_module": "@jupyter-widgets/controls",
            "_model_module_version": "1.5.0",
            "_model_name": "ProgressStyleModel",
            "_view_count": null,
            "_view_module": "@jupyter-widgets/base",
            "_view_module_version": "1.2.0",
            "_view_name": "StyleView",
            "bar_color": null,
            "description_width": ""
          }
        },
        "8c3ada5962514e0b90dffe0878a518a9": {
          "model_module": "@jupyter-widgets/controls",
          "model_module_version": "1.5.0",
          "model_name": "HBoxModel",
          "state": {
            "_dom_classes": [],
            "_model_module": "@jupyter-widgets/controls",
            "_model_module_version": "1.5.0",
            "_model_name": "HBoxModel",
            "_view_count": null,
            "_view_module": "@jupyter-widgets/controls",
            "_view_module_version": "1.5.0",
            "_view_name": "HBoxView",
            "box_style": "",
            "children": [
              "IPY_MODEL_808f23287879478ca7808cc225a900a2",
              "IPY_MODEL_af9049b9f37c4e029116d398a041ca7f",
              "IPY_MODEL_0fa038c0cdda4e84beb16fa826026188"
            ],
            "layout": "IPY_MODEL_cde1b0ea75284c73991800f10f6ba4df"
          }
        },
        "8de8315243b849e2af59830cc4930eeb": {
          "model_module": "@jupyter-widgets/controls",
          "model_module_version": "1.5.0",
          "model_name": "FloatProgressModel",
          "state": {
            "_dom_classes": [],
            "_model_module": "@jupyter-widgets/controls",
            "_model_module_version": "1.5.0",
            "_model_name": "FloatProgressModel",
            "_view_count": null,
            "_view_module": "@jupyter-widgets/controls",
            "_view_module_version": "1.5.0",
            "_view_name": "ProgressView",
            "bar_style": "success",
            "description": "",
            "description_tooltip": null,
            "layout": "IPY_MODEL_2e27b6e2ab3f4afa8c2885123db62175",
            "max": 28,
            "min": 0,
            "orientation": "horizontal",
            "style": "IPY_MODEL_71622b35094642c595a8899007932e2d",
            "value": 28
          }
        },
        "90cfe29f75874de2a89b8952f42446b5": {
          "model_module": "@jupyter-widgets/base",
          "model_module_version": "1.2.0",
          "model_name": "LayoutModel",
          "state": {
            "_model_module": "@jupyter-widgets/base",
            "_model_module_version": "1.2.0",
            "_model_name": "LayoutModel",
            "_view_count": null,
            "_view_module": "@jupyter-widgets/base",
            "_view_module_version": "1.2.0",
            "_view_name": "LayoutView",
            "align_content": null,
            "align_items": null,
            "align_self": null,
            "border": null,
            "bottom": null,
            "display": null,
            "flex": null,
            "flex_flow": null,
            "grid_area": null,
            "grid_auto_columns": null,
            "grid_auto_flow": null,
            "grid_auto_rows": null,
            "grid_column": null,
            "grid_gap": null,
            "grid_row": null,
            "grid_template_areas": null,
            "grid_template_columns": null,
            "grid_template_rows": null,
            "height": null,
            "justify_content": null,
            "justify_items": null,
            "left": null,
            "margin": null,
            "max_height": null,
            "max_width": null,
            "min_height": null,
            "min_width": null,
            "object_fit": null,
            "object_position": null,
            "order": null,
            "overflow": null,
            "overflow_x": null,
            "overflow_y": null,
            "padding": null,
            "right": null,
            "top": null,
            "visibility": null,
            "width": null
          }
        },
        "928e67e5e3d04763a9f76149e35e8aab": {
          "model_module": "@jupyter-widgets/base",
          "model_module_version": "1.2.0",
          "model_name": "LayoutModel",
          "state": {
            "_model_module": "@jupyter-widgets/base",
            "_model_module_version": "1.2.0",
            "_model_name": "LayoutModel",
            "_view_count": null,
            "_view_module": "@jupyter-widgets/base",
            "_view_module_version": "1.2.0",
            "_view_name": "LayoutView",
            "align_content": null,
            "align_items": null,
            "align_self": null,
            "border": null,
            "bottom": null,
            "display": null,
            "flex": null,
            "flex_flow": null,
            "grid_area": null,
            "grid_auto_columns": null,
            "grid_auto_flow": null,
            "grid_auto_rows": null,
            "grid_column": null,
            "grid_gap": null,
            "grid_row": null,
            "grid_template_areas": null,
            "grid_template_columns": null,
            "grid_template_rows": null,
            "height": null,
            "justify_content": null,
            "justify_items": null,
            "left": null,
            "margin": null,
            "max_height": null,
            "max_width": null,
            "min_height": null,
            "min_width": null,
            "object_fit": null,
            "object_position": null,
            "order": null,
            "overflow": null,
            "overflow_x": null,
            "overflow_y": null,
            "padding": null,
            "right": null,
            "top": null,
            "visibility": null,
            "width": null
          }
        },
        "93e01f8249f446e3b86da8beb2ecf577": {
          "model_module": "@jupyter-widgets/controls",
          "model_module_version": "1.5.0",
          "model_name": "DescriptionStyleModel",
          "state": {
            "_model_module": "@jupyter-widgets/controls",
            "_model_module_version": "1.5.0",
            "_model_name": "DescriptionStyleModel",
            "_view_count": null,
            "_view_module": "@jupyter-widgets/base",
            "_view_module_version": "1.2.0",
            "_view_name": "StyleView",
            "description_width": ""
          }
        },
        "94e44a3c7be549ad86525aad0aabb6f2": {
          "model_module": "@jupyter-widgets/controls",
          "model_module_version": "1.5.0",
          "model_name": "HTMLModel",
          "state": {
            "_dom_classes": [],
            "_model_module": "@jupyter-widgets/controls",
            "_model_module_version": "1.5.0",
            "_model_name": "HTMLModel",
            "_view_count": null,
            "_view_module": "@jupyter-widgets/controls",
            "_view_module_version": "1.5.0",
            "_view_name": "HTMLView",
            "description": "",
            "description_tooltip": null,
            "layout": "IPY_MODEL_d1cb5dab12e44120a42dffb38a84900a",
            "placeholder": "​",
            "style": "IPY_MODEL_396f667dde4a4a3fb6d72a37ddb09a10",
            "value": " 570/570 [00:00&lt;00:00, 16.1kB/s]"
          }
        },
        "9731305459f24f0bb2bc60644a7478a7": {
          "model_module": "@jupyter-widgets/controls",
          "model_module_version": "1.5.0",
          "model_name": "HBoxModel",
          "state": {
            "_dom_classes": [],
            "_model_module": "@jupyter-widgets/controls",
            "_model_module_version": "1.5.0",
            "_model_name": "HBoxModel",
            "_view_count": null,
            "_view_module": "@jupyter-widgets/controls",
            "_view_module_version": "1.5.0",
            "_view_name": "HBoxView",
            "box_style": "",
            "children": [
              "IPY_MODEL_81825a58f05a4d1e86bdbde960710b01",
              "IPY_MODEL_85be3431c3c74d108556a5bdd872f160",
              "IPY_MODEL_e7e7172119ef4113b967c3746f180e51"
            ],
            "layout": "IPY_MODEL_2d634187adbc4058a723789b58b0680a"
          }
        },
        "97635a053ae34e6f9e74726b3debf5a9": {
          "model_module": "@jupyter-widgets/controls",
          "model_module_version": "1.5.0",
          "model_name": "DescriptionStyleModel",
          "state": {
            "_model_module": "@jupyter-widgets/controls",
            "_model_module_version": "1.5.0",
            "_model_name": "DescriptionStyleModel",
            "_view_count": null,
            "_view_module": "@jupyter-widgets/base",
            "_view_module_version": "1.2.0",
            "_view_name": "StyleView",
            "description_width": ""
          }
        },
        "a19dd4b1d62c404688f4b296a100b5f4": {
          "model_module": "@jupyter-widgets/base",
          "model_module_version": "1.2.0",
          "model_name": "LayoutModel",
          "state": {
            "_model_module": "@jupyter-widgets/base",
            "_model_module_version": "1.2.0",
            "_model_name": "LayoutModel",
            "_view_count": null,
            "_view_module": "@jupyter-widgets/base",
            "_view_module_version": "1.2.0",
            "_view_name": "LayoutView",
            "align_content": null,
            "align_items": null,
            "align_self": null,
            "border": null,
            "bottom": null,
            "display": null,
            "flex": null,
            "flex_flow": null,
            "grid_area": null,
            "grid_auto_columns": null,
            "grid_auto_flow": null,
            "grid_auto_rows": null,
            "grid_column": null,
            "grid_gap": null,
            "grid_row": null,
            "grid_template_areas": null,
            "grid_template_columns": null,
            "grid_template_rows": null,
            "height": null,
            "justify_content": null,
            "justify_items": null,
            "left": null,
            "margin": null,
            "max_height": null,
            "max_width": null,
            "min_height": null,
            "min_width": null,
            "object_fit": null,
            "object_position": null,
            "order": null,
            "overflow": null,
            "overflow_x": null,
            "overflow_y": null,
            "padding": null,
            "right": null,
            "top": null,
            "visibility": null,
            "width": null
          }
        },
        "a7c16ea3c0144897964637764da2d412": {
          "model_module": "@jupyter-widgets/base",
          "model_module_version": "1.2.0",
          "model_name": "LayoutModel",
          "state": {
            "_model_module": "@jupyter-widgets/base",
            "_model_module_version": "1.2.0",
            "_model_name": "LayoutModel",
            "_view_count": null,
            "_view_module": "@jupyter-widgets/base",
            "_view_module_version": "1.2.0",
            "_view_name": "LayoutView",
            "align_content": null,
            "align_items": null,
            "align_self": null,
            "border": null,
            "bottom": null,
            "display": null,
            "flex": null,
            "flex_flow": null,
            "grid_area": null,
            "grid_auto_columns": null,
            "grid_auto_flow": null,
            "grid_auto_rows": null,
            "grid_column": null,
            "grid_gap": null,
            "grid_row": null,
            "grid_template_areas": null,
            "grid_template_columns": null,
            "grid_template_rows": null,
            "height": null,
            "justify_content": null,
            "justify_items": null,
            "left": null,
            "margin": null,
            "max_height": null,
            "max_width": null,
            "min_height": null,
            "min_width": null,
            "object_fit": null,
            "object_position": null,
            "order": null,
            "overflow": null,
            "overflow_x": null,
            "overflow_y": null,
            "padding": null,
            "right": null,
            "top": null,
            "visibility": null,
            "width": null
          }
        },
        "ab4b8b5e810a435693163079b8884e43": {
          "model_module": "@jupyter-widgets/base",
          "model_module_version": "1.2.0",
          "model_name": "LayoutModel",
          "state": {
            "_model_module": "@jupyter-widgets/base",
            "_model_module_version": "1.2.0",
            "_model_name": "LayoutModel",
            "_view_count": null,
            "_view_module": "@jupyter-widgets/base",
            "_view_module_version": "1.2.0",
            "_view_name": "LayoutView",
            "align_content": null,
            "align_items": null,
            "align_self": null,
            "border": null,
            "bottom": null,
            "display": null,
            "flex": null,
            "flex_flow": null,
            "grid_area": null,
            "grid_auto_columns": null,
            "grid_auto_flow": null,
            "grid_auto_rows": null,
            "grid_column": null,
            "grid_gap": null,
            "grid_row": null,
            "grid_template_areas": null,
            "grid_template_columns": null,
            "grid_template_rows": null,
            "height": null,
            "justify_content": null,
            "justify_items": null,
            "left": null,
            "margin": null,
            "max_height": null,
            "max_width": null,
            "min_height": null,
            "min_width": null,
            "object_fit": null,
            "object_position": null,
            "order": null,
            "overflow": null,
            "overflow_x": null,
            "overflow_y": null,
            "padding": null,
            "right": null,
            "top": null,
            "visibility": null,
            "width": null
          }
        },
        "ab9e03805595440c95b16b6a9a009ca6": {
          "model_module": "@jupyter-widgets/base",
          "model_module_version": "1.2.0",
          "model_name": "LayoutModel",
          "state": {
            "_model_module": "@jupyter-widgets/base",
            "_model_module_version": "1.2.0",
            "_model_name": "LayoutModel",
            "_view_count": null,
            "_view_module": "@jupyter-widgets/base",
            "_view_module_version": "1.2.0",
            "_view_name": "LayoutView",
            "align_content": null,
            "align_items": null,
            "align_self": null,
            "border": null,
            "bottom": null,
            "display": null,
            "flex": null,
            "flex_flow": null,
            "grid_area": null,
            "grid_auto_columns": null,
            "grid_auto_flow": null,
            "grid_auto_rows": null,
            "grid_column": null,
            "grid_gap": null,
            "grid_row": null,
            "grid_template_areas": null,
            "grid_template_columns": null,
            "grid_template_rows": null,
            "height": null,
            "justify_content": null,
            "justify_items": null,
            "left": null,
            "margin": null,
            "max_height": null,
            "max_width": null,
            "min_height": null,
            "min_width": null,
            "object_fit": null,
            "object_position": null,
            "order": null,
            "overflow": null,
            "overflow_x": null,
            "overflow_y": null,
            "padding": null,
            "right": null,
            "top": null,
            "visibility": null,
            "width": null
          }
        },
        "ac2f0f12d38240928a3e412bde0d9a61": {
          "model_module": "@jupyter-widgets/controls",
          "model_module_version": "1.5.0",
          "model_name": "HTMLModel",
          "state": {
            "_dom_classes": [],
            "_model_module": "@jupyter-widgets/controls",
            "_model_module_version": "1.5.0",
            "_model_name": "HTMLModel",
            "_view_count": null,
            "_view_module": "@jupyter-widgets/controls",
            "_view_module_version": "1.5.0",
            "_view_name": "HTMLView",
            "description": "",
            "description_tooltip": null,
            "layout": "IPY_MODEL_6bb0127e9a9445a7a8ff6be8ede96d0b",
            "placeholder": "​",
            "style": "IPY_MODEL_14b7f6e37efa4281972fc5edab434132",
            "value": " 483/483 [00:00&lt;00:00, 13.2kB/s]"
          }
        },
        "af9049b9f37c4e029116d398a041ca7f": {
          "model_module": "@jupyter-widgets/controls",
          "model_module_version": "1.5.0",
          "model_name": "FloatProgressModel",
          "state": {
            "_dom_classes": [],
            "_model_module": "@jupyter-widgets/controls",
            "_model_module_version": "1.5.0",
            "_model_name": "FloatProgressModel",
            "_view_count": null,
            "_view_module": "@jupyter-widgets/controls",
            "_view_module_version": "1.5.0",
            "_view_name": "ProgressView",
            "bar_style": "success",
            "description": "",
            "description_tooltip": null,
            "layout": "IPY_MODEL_ee2a4beef44e4951b81f6a729c716502",
            "max": 231508,
            "min": 0,
            "orientation": "horizontal",
            "style": "IPY_MODEL_8acb6df732354590aef101eebe456350",
            "value": 231508
          }
        },
        "bfacdc01bab74e539a34b692a3e0603e": {
          "model_module": "@jupyter-widgets/controls",
          "model_module_version": "1.5.0",
          "model_name": "ProgressStyleModel",
          "state": {
            "_model_module": "@jupyter-widgets/controls",
            "_model_module_version": "1.5.0",
            "_model_name": "ProgressStyleModel",
            "_view_count": null,
            "_view_module": "@jupyter-widgets/base",
            "_view_module_version": "1.2.0",
            "_view_name": "StyleView",
            "bar_color": null,
            "description_width": ""
          }
        },
        "c50e876c34094abc9a8ca63376589b7c": {
          "model_module": "@jupyter-widgets/controls",
          "model_module_version": "1.5.0",
          "model_name": "HTMLModel",
          "state": {
            "_dom_classes": [],
            "_model_module": "@jupyter-widgets/controls",
            "_model_module_version": "1.5.0",
            "_model_name": "HTMLModel",
            "_view_count": null,
            "_view_module": "@jupyter-widgets/controls",
            "_view_module_version": "1.5.0",
            "_view_name": "HTMLView",
            "description": "",
            "description_tooltip": null,
            "layout": "IPY_MODEL_ab9e03805595440c95b16b6a9a009ca6",
            "placeholder": "​",
            "style": "IPY_MODEL_c5bda1f450cb4fd4ad808669b5f6289a",
            "value": "Downloading: 100%"
          }
        },
        "c5bda1f450cb4fd4ad808669b5f6289a": {
          "model_module": "@jupyter-widgets/controls",
          "model_module_version": "1.5.0",
          "model_name": "DescriptionStyleModel",
          "state": {
            "_model_module": "@jupyter-widgets/controls",
            "_model_module_version": "1.5.0",
            "_model_name": "DescriptionStyleModel",
            "_view_count": null,
            "_view_module": "@jupyter-widgets/base",
            "_view_module_version": "1.2.0",
            "_view_name": "StyleView",
            "description_width": ""
          }
        },
        "cde1b0ea75284c73991800f10f6ba4df": {
          "model_module": "@jupyter-widgets/base",
          "model_module_version": "1.2.0",
          "model_name": "LayoutModel",
          "state": {
            "_model_module": "@jupyter-widgets/base",
            "_model_module_version": "1.2.0",
            "_model_name": "LayoutModel",
            "_view_count": null,
            "_view_module": "@jupyter-widgets/base",
            "_view_module_version": "1.2.0",
            "_view_name": "LayoutView",
            "align_content": null,
            "align_items": null,
            "align_self": null,
            "border": null,
            "bottom": null,
            "display": null,
            "flex": null,
            "flex_flow": null,
            "grid_area": null,
            "grid_auto_columns": null,
            "grid_auto_flow": null,
            "grid_auto_rows": null,
            "grid_column": null,
            "grid_gap": null,
            "grid_row": null,
            "grid_template_areas": null,
            "grid_template_columns": null,
            "grid_template_rows": null,
            "height": null,
            "justify_content": null,
            "justify_items": null,
            "left": null,
            "margin": null,
            "max_height": null,
            "max_width": null,
            "min_height": null,
            "min_width": null,
            "object_fit": null,
            "object_position": null,
            "order": null,
            "overflow": null,
            "overflow_x": null,
            "overflow_y": null,
            "padding": null,
            "right": null,
            "top": null,
            "visibility": null,
            "width": null
          }
        },
        "d1cb5dab12e44120a42dffb38a84900a": {
          "model_module": "@jupyter-widgets/base",
          "model_module_version": "1.2.0",
          "model_name": "LayoutModel",
          "state": {
            "_model_module": "@jupyter-widgets/base",
            "_model_module_version": "1.2.0",
            "_model_name": "LayoutModel",
            "_view_count": null,
            "_view_module": "@jupyter-widgets/base",
            "_view_module_version": "1.2.0",
            "_view_name": "LayoutView",
            "align_content": null,
            "align_items": null,
            "align_self": null,
            "border": null,
            "bottom": null,
            "display": null,
            "flex": null,
            "flex_flow": null,
            "grid_area": null,
            "grid_auto_columns": null,
            "grid_auto_flow": null,
            "grid_auto_rows": null,
            "grid_column": null,
            "grid_gap": null,
            "grid_row": null,
            "grid_template_areas": null,
            "grid_template_columns": null,
            "grid_template_rows": null,
            "height": null,
            "justify_content": null,
            "justify_items": null,
            "left": null,
            "margin": null,
            "max_height": null,
            "max_width": null,
            "min_height": null,
            "min_width": null,
            "object_fit": null,
            "object_position": null,
            "order": null,
            "overflow": null,
            "overflow_x": null,
            "overflow_y": null,
            "padding": null,
            "right": null,
            "top": null,
            "visibility": null,
            "width": null
          }
        },
        "e1e9e0c94d7a4beca98570e5f8615efb": {
          "model_module": "@jupyter-widgets/controls",
          "model_module_version": "1.5.0",
          "model_name": "ProgressStyleModel",
          "state": {
            "_model_module": "@jupyter-widgets/controls",
            "_model_module_version": "1.5.0",
            "_model_name": "ProgressStyleModel",
            "_view_count": null,
            "_view_module": "@jupyter-widgets/base",
            "_view_module_version": "1.2.0",
            "_view_name": "StyleView",
            "bar_color": null,
            "description_width": ""
          }
        },
        "e6abef6904b64ebba8ec3144e27c79df": {
          "model_module": "@jupyter-widgets/base",
          "model_module_version": "1.2.0",
          "model_name": "LayoutModel",
          "state": {
            "_model_module": "@jupyter-widgets/base",
            "_model_module_version": "1.2.0",
            "_model_name": "LayoutModel",
            "_view_count": null,
            "_view_module": "@jupyter-widgets/base",
            "_view_module_version": "1.2.0",
            "_view_name": "LayoutView",
            "align_content": null,
            "align_items": null,
            "align_self": null,
            "border": null,
            "bottom": null,
            "display": null,
            "flex": null,
            "flex_flow": null,
            "grid_area": null,
            "grid_auto_columns": null,
            "grid_auto_flow": null,
            "grid_auto_rows": null,
            "grid_column": null,
            "grid_gap": null,
            "grid_row": null,
            "grid_template_areas": null,
            "grid_template_columns": null,
            "grid_template_rows": null,
            "height": null,
            "justify_content": null,
            "justify_items": null,
            "left": null,
            "margin": null,
            "max_height": null,
            "max_width": null,
            "min_height": null,
            "min_width": null,
            "object_fit": null,
            "object_position": null,
            "order": null,
            "overflow": null,
            "overflow_x": null,
            "overflow_y": null,
            "padding": null,
            "right": null,
            "top": null,
            "visibility": null,
            "width": null
          }
        },
        "e7e7172119ef4113b967c3746f180e51": {
          "model_module": "@jupyter-widgets/controls",
          "model_module_version": "1.5.0",
          "model_name": "HTMLModel",
          "state": {
            "_dom_classes": [],
            "_model_module": "@jupyter-widgets/controls",
            "_model_module_version": "1.5.0",
            "_model_name": "HTMLModel",
            "_view_count": null,
            "_view_module": "@jupyter-widgets/controls",
            "_view_module_version": "1.5.0",
            "_view_name": "HTMLView",
            "description": "",
            "description_tooltip": null,
            "layout": "IPY_MODEL_a7c16ea3c0144897964637764da2d412",
            "placeholder": "​",
            "style": "IPY_MODEL_93e01f8249f446e3b86da8beb2ecf577",
            "value": " 440M/440M [00:07&lt;00:00, 60.9MB/s]"
          }
        },
        "ec7086ea90664458a9511e68c25a29ca": {
          "model_module": "@jupyter-widgets/base",
          "model_module_version": "1.2.0",
          "model_name": "LayoutModel",
          "state": {
            "_model_module": "@jupyter-widgets/base",
            "_model_module_version": "1.2.0",
            "_model_name": "LayoutModel",
            "_view_count": null,
            "_view_module": "@jupyter-widgets/base",
            "_view_module_version": "1.2.0",
            "_view_name": "LayoutView",
            "align_content": null,
            "align_items": null,
            "align_self": null,
            "border": null,
            "bottom": null,
            "display": null,
            "flex": null,
            "flex_flow": null,
            "grid_area": null,
            "grid_auto_columns": null,
            "grid_auto_flow": null,
            "grid_auto_rows": null,
            "grid_column": null,
            "grid_gap": null,
            "grid_row": null,
            "grid_template_areas": null,
            "grid_template_columns": null,
            "grid_template_rows": null,
            "height": null,
            "justify_content": null,
            "justify_items": null,
            "left": null,
            "margin": null,
            "max_height": null,
            "max_width": null,
            "min_height": null,
            "min_width": null,
            "object_fit": null,
            "object_position": null,
            "order": null,
            "overflow": null,
            "overflow_x": null,
            "overflow_y": null,
            "padding": null,
            "right": null,
            "top": null,
            "visibility": null,
            "width": null
          }
        },
        "ee2a4beef44e4951b81f6a729c716502": {
          "model_module": "@jupyter-widgets/base",
          "model_module_version": "1.2.0",
          "model_name": "LayoutModel",
          "state": {
            "_model_module": "@jupyter-widgets/base",
            "_model_module_version": "1.2.0",
            "_model_name": "LayoutModel",
            "_view_count": null,
            "_view_module": "@jupyter-widgets/base",
            "_view_module_version": "1.2.0",
            "_view_name": "LayoutView",
            "align_content": null,
            "align_items": null,
            "align_self": null,
            "border": null,
            "bottom": null,
            "display": null,
            "flex": null,
            "flex_flow": null,
            "grid_area": null,
            "grid_auto_columns": null,
            "grid_auto_flow": null,
            "grid_auto_rows": null,
            "grid_column": null,
            "grid_gap": null,
            "grid_row": null,
            "grid_template_areas": null,
            "grid_template_columns": null,
            "grid_template_rows": null,
            "height": null,
            "justify_content": null,
            "justify_items": null,
            "left": null,
            "margin": null,
            "max_height": null,
            "max_width": null,
            "min_height": null,
            "min_width": null,
            "object_fit": null,
            "object_position": null,
            "order": null,
            "overflow": null,
            "overflow_x": null,
            "overflow_y": null,
            "padding": null,
            "right": null,
            "top": null,
            "visibility": null,
            "width": null
          }
        },
        "c005240b980f4b468ae964797a3603e9": {
          "model_module": "@jupyter-widgets/controls",
          "model_name": "HBoxModel",
          "model_module_version": "1.5.0",
          "state": {
            "_dom_classes": [],
            "_model_module": "@jupyter-widgets/controls",
            "_model_module_version": "1.5.0",
            "_model_name": "HBoxModel",
            "_view_count": null,
            "_view_module": "@jupyter-widgets/controls",
            "_view_module_version": "1.5.0",
            "_view_name": "HBoxView",
            "box_style": "",
            "children": [
              "IPY_MODEL_7a058e37ef404df193f458a8b8a1cd22",
              "IPY_MODEL_a8c72ad0b3ae4c84b930dad69a4f64a9",
              "IPY_MODEL_9e2143bb8deb46e2ac23fb57c36ee5d2"
            ],
            "layout": "IPY_MODEL_91feac425fba4c58b8ae45c1a4ebb2a7"
          }
        },
        "7a058e37ef404df193f458a8b8a1cd22": {
          "model_module": "@jupyter-widgets/controls",
          "model_name": "HTMLModel",
          "model_module_version": "1.5.0",
          "state": {
            "_dom_classes": [],
            "_model_module": "@jupyter-widgets/controls",
            "_model_module_version": "1.5.0",
            "_model_name": "HTMLModel",
            "_view_count": null,
            "_view_module": "@jupyter-widgets/controls",
            "_view_module_version": "1.5.0",
            "_view_name": "HTMLView",
            "description": "",
            "description_tooltip": null,
            "layout": "IPY_MODEL_065696c7771d42c38773e7cd8760ffb2",
            "placeholder": "​",
            "style": "IPY_MODEL_295b01176453436cbd44941d802085fd",
            "value": "Downloading: 100%"
          }
        },
        "a8c72ad0b3ae4c84b930dad69a4f64a9": {
          "model_module": "@jupyter-widgets/controls",
          "model_name": "FloatProgressModel",
          "model_module_version": "1.5.0",
          "state": {
            "_dom_classes": [],
            "_model_module": "@jupyter-widgets/controls",
            "_model_module_version": "1.5.0",
            "_model_name": "FloatProgressModel",
            "_view_count": null,
            "_view_module": "@jupyter-widgets/controls",
            "_view_module_version": "1.5.0",
            "_view_name": "ProgressView",
            "bar_style": "success",
            "description": "",
            "description_tooltip": null,
            "layout": "IPY_MODEL_54f85871e405482499910eac37c6e18f",
            "max": 213450,
            "min": 0,
            "orientation": "horizontal",
            "style": "IPY_MODEL_22e278be584f4382bf65d9ae400090f6",
            "value": 213450
          }
        },
        "9e2143bb8deb46e2ac23fb57c36ee5d2": {
          "model_module": "@jupyter-widgets/controls",
          "model_name": "HTMLModel",
          "model_module_version": "1.5.0",
          "state": {
            "_dom_classes": [],
            "_model_module": "@jupyter-widgets/controls",
            "_model_module_version": "1.5.0",
            "_model_name": "HTMLModel",
            "_view_count": null,
            "_view_module": "@jupyter-widgets/controls",
            "_view_module_version": "1.5.0",
            "_view_name": "HTMLView",
            "description": "",
            "description_tooltip": null,
            "layout": "IPY_MODEL_704b08fec8374500947b5308055d7fef",
            "placeholder": "​",
            "style": "IPY_MODEL_5a8aeaf005eb4dfa8d6aebc4a32e2576",
            "value": " 213k/213k [00:00&lt;00:00, 9.09kB/s]"
          }
        },
        "91feac425fba4c58b8ae45c1a4ebb2a7": {
          "model_module": "@jupyter-widgets/base",
          "model_name": "LayoutModel",
          "model_module_version": "1.2.0",
          "state": {
            "_model_module": "@jupyter-widgets/base",
            "_model_module_version": "1.2.0",
            "_model_name": "LayoutModel",
            "_view_count": null,
            "_view_module": "@jupyter-widgets/base",
            "_view_module_version": "1.2.0",
            "_view_name": "LayoutView",
            "align_content": null,
            "align_items": null,
            "align_self": null,
            "border": null,
            "bottom": null,
            "display": null,
            "flex": null,
            "flex_flow": null,
            "grid_area": null,
            "grid_auto_columns": null,
            "grid_auto_flow": null,
            "grid_auto_rows": null,
            "grid_column": null,
            "grid_gap": null,
            "grid_row": null,
            "grid_template_areas": null,
            "grid_template_columns": null,
            "grid_template_rows": null,
            "height": null,
            "justify_content": null,
            "justify_items": null,
            "left": null,
            "margin": null,
            "max_height": null,
            "max_width": null,
            "min_height": null,
            "min_width": null,
            "object_fit": null,
            "object_position": null,
            "order": null,
            "overflow": null,
            "overflow_x": null,
            "overflow_y": null,
            "padding": null,
            "right": null,
            "top": null,
            "visibility": null,
            "width": null
          }
        },
        "065696c7771d42c38773e7cd8760ffb2": {
          "model_module": "@jupyter-widgets/base",
          "model_name": "LayoutModel",
          "model_module_version": "1.2.0",
          "state": {
            "_model_module": "@jupyter-widgets/base",
            "_model_module_version": "1.2.0",
            "_model_name": "LayoutModel",
            "_view_count": null,
            "_view_module": "@jupyter-widgets/base",
            "_view_module_version": "1.2.0",
            "_view_name": "LayoutView",
            "align_content": null,
            "align_items": null,
            "align_self": null,
            "border": null,
            "bottom": null,
            "display": null,
            "flex": null,
            "flex_flow": null,
            "grid_area": null,
            "grid_auto_columns": null,
            "grid_auto_flow": null,
            "grid_auto_rows": null,
            "grid_column": null,
            "grid_gap": null,
            "grid_row": null,
            "grid_template_areas": null,
            "grid_template_columns": null,
            "grid_template_rows": null,
            "height": null,
            "justify_content": null,
            "justify_items": null,
            "left": null,
            "margin": null,
            "max_height": null,
            "max_width": null,
            "min_height": null,
            "min_width": null,
            "object_fit": null,
            "object_position": null,
            "order": null,
            "overflow": null,
            "overflow_x": null,
            "overflow_y": null,
            "padding": null,
            "right": null,
            "top": null,
            "visibility": null,
            "width": null
          }
        },
        "295b01176453436cbd44941d802085fd": {
          "model_module": "@jupyter-widgets/controls",
          "model_name": "DescriptionStyleModel",
          "model_module_version": "1.5.0",
          "state": {
            "_model_module": "@jupyter-widgets/controls",
            "_model_module_version": "1.5.0",
            "_model_name": "DescriptionStyleModel",
            "_view_count": null,
            "_view_module": "@jupyter-widgets/base",
            "_view_module_version": "1.2.0",
            "_view_name": "StyleView",
            "description_width": ""
          }
        },
        "54f85871e405482499910eac37c6e18f": {
          "model_module": "@jupyter-widgets/base",
          "model_name": "LayoutModel",
          "model_module_version": "1.2.0",
          "state": {
            "_model_module": "@jupyter-widgets/base",
            "_model_module_version": "1.2.0",
            "_model_name": "LayoutModel",
            "_view_count": null,
            "_view_module": "@jupyter-widgets/base",
            "_view_module_version": "1.2.0",
            "_view_name": "LayoutView",
            "align_content": null,
            "align_items": null,
            "align_self": null,
            "border": null,
            "bottom": null,
            "display": null,
            "flex": null,
            "flex_flow": null,
            "grid_area": null,
            "grid_auto_columns": null,
            "grid_auto_flow": null,
            "grid_auto_rows": null,
            "grid_column": null,
            "grid_gap": null,
            "grid_row": null,
            "grid_template_areas": null,
            "grid_template_columns": null,
            "grid_template_rows": null,
            "height": null,
            "justify_content": null,
            "justify_items": null,
            "left": null,
            "margin": null,
            "max_height": null,
            "max_width": null,
            "min_height": null,
            "min_width": null,
            "object_fit": null,
            "object_position": null,
            "order": null,
            "overflow": null,
            "overflow_x": null,
            "overflow_y": null,
            "padding": null,
            "right": null,
            "top": null,
            "visibility": null,
            "width": null
          }
        },
        "22e278be584f4382bf65d9ae400090f6": {
          "model_module": "@jupyter-widgets/controls",
          "model_name": "ProgressStyleModel",
          "model_module_version": "1.5.0",
          "state": {
            "_model_module": "@jupyter-widgets/controls",
            "_model_module_version": "1.5.0",
            "_model_name": "ProgressStyleModel",
            "_view_count": null,
            "_view_module": "@jupyter-widgets/base",
            "_view_module_version": "1.2.0",
            "_view_name": "StyleView",
            "bar_color": null,
            "description_width": ""
          }
        },
        "704b08fec8374500947b5308055d7fef": {
          "model_module": "@jupyter-widgets/base",
          "model_name": "LayoutModel",
          "model_module_version": "1.2.0",
          "state": {
            "_model_module": "@jupyter-widgets/base",
            "_model_module_version": "1.2.0",
            "_model_name": "LayoutModel",
            "_view_count": null,
            "_view_module": "@jupyter-widgets/base",
            "_view_module_version": "1.2.0",
            "_view_name": "LayoutView",
            "align_content": null,
            "align_items": null,
            "align_self": null,
            "border": null,
            "bottom": null,
            "display": null,
            "flex": null,
            "flex_flow": null,
            "grid_area": null,
            "grid_auto_columns": null,
            "grid_auto_flow": null,
            "grid_auto_rows": null,
            "grid_column": null,
            "grid_gap": null,
            "grid_row": null,
            "grid_template_areas": null,
            "grid_template_columns": null,
            "grid_template_rows": null,
            "height": null,
            "justify_content": null,
            "justify_items": null,
            "left": null,
            "margin": null,
            "max_height": null,
            "max_width": null,
            "min_height": null,
            "min_width": null,
            "object_fit": null,
            "object_position": null,
            "order": null,
            "overflow": null,
            "overflow_x": null,
            "overflow_y": null,
            "padding": null,
            "right": null,
            "top": null,
            "visibility": null,
            "width": null
          }
        },
        "5a8aeaf005eb4dfa8d6aebc4a32e2576": {
          "model_module": "@jupyter-widgets/controls",
          "model_name": "DescriptionStyleModel",
          "model_module_version": "1.5.0",
          "state": {
            "_model_module": "@jupyter-widgets/controls",
            "_model_module_version": "1.5.0",
            "_model_name": "DescriptionStyleModel",
            "_view_count": null,
            "_view_module": "@jupyter-widgets/base",
            "_view_module_version": "1.2.0",
            "_view_name": "StyleView",
            "description_width": ""
          }
        },
        "014bfe624dfd40208e777bccdddacc76": {
          "model_module": "@jupyter-widgets/controls",
          "model_name": "HBoxModel",
          "model_module_version": "1.5.0",
          "state": {
            "_dom_classes": [],
            "_model_module": "@jupyter-widgets/controls",
            "_model_module_version": "1.5.0",
            "_model_name": "HBoxModel",
            "_view_count": null,
            "_view_module": "@jupyter-widgets/controls",
            "_view_module_version": "1.5.0",
            "_view_name": "HBoxView",
            "box_style": "",
            "children": [
              "IPY_MODEL_e0bb3d8e5c224c38b0d38afa6c1be98b",
              "IPY_MODEL_95cf56b4e30c411abfadbfa871698077",
              "IPY_MODEL_f290f87a15a9446d920c19d33365a0c5"
            ],
            "layout": "IPY_MODEL_f1be34698568463b8210b473a986c222"
          }
        },
        "e0bb3d8e5c224c38b0d38afa6c1be98b": {
          "model_module": "@jupyter-widgets/controls",
          "model_name": "HTMLModel",
          "model_module_version": "1.5.0",
          "state": {
            "_dom_classes": [],
            "_model_module": "@jupyter-widgets/controls",
            "_model_module_version": "1.5.0",
            "_model_name": "HTMLModel",
            "_view_count": null,
            "_view_module": "@jupyter-widgets/controls",
            "_view_module_version": "1.5.0",
            "_view_name": "HTMLView",
            "description": "",
            "description_tooltip": null,
            "layout": "IPY_MODEL_ef82f64dd601463dabcac67368579e50",
            "placeholder": "​",
            "style": "IPY_MODEL_3f68d2b0bdcd4c9489b1e660755bc338",
            "value": "Downloading: 100%"
          }
        },
        "95cf56b4e30c411abfadbfa871698077": {
          "model_module": "@jupyter-widgets/controls",
          "model_name": "FloatProgressModel",
          "model_module_version": "1.5.0",
          "state": {
            "_dom_classes": [],
            "_model_module": "@jupyter-widgets/controls",
            "_model_module_version": "1.5.0",
            "_model_name": "FloatProgressModel",
            "_view_count": null,
            "_view_module": "@jupyter-widgets/controls",
            "_view_module_version": "1.5.0",
            "_view_name": "ProgressView",
            "bar_style": "success",
            "description": "",
            "description_tooltip": null,
            "layout": "IPY_MODEL_19e61a69682b4a5faa6cf3f6db8af23c",
            "max": 29,
            "min": 0,
            "orientation": "horizontal",
            "style": "IPY_MODEL_a04288084c1745c9a35a15efe0641ffa",
            "value": 29
          }
        },
        "f290f87a15a9446d920c19d33365a0c5": {
          "model_module": "@jupyter-widgets/controls",
          "model_name": "HTMLModel",
          "model_module_version": "1.5.0",
          "state": {
            "_dom_classes": [],
            "_model_module": "@jupyter-widgets/controls",
            "_model_module_version": "1.5.0",
            "_model_name": "HTMLModel",
            "_view_count": null,
            "_view_module": "@jupyter-widgets/controls",
            "_view_module_version": "1.5.0",
            "_view_name": "HTMLView",
            "description": "",
            "description_tooltip": null,
            "layout": "IPY_MODEL_9e5d051bd2794052add90832ba5b275c",
            "placeholder": "​",
            "style": "IPY_MODEL_fdd6aab3401843bfbd459de4179a04ec",
            "value": " 29.0/29.0 [00:00&lt;00:00, 247B/s]"
          }
        },
        "f1be34698568463b8210b473a986c222": {
          "model_module": "@jupyter-widgets/base",
          "model_name": "LayoutModel",
          "model_module_version": "1.2.0",
          "state": {
            "_model_module": "@jupyter-widgets/base",
            "_model_module_version": "1.2.0",
            "_model_name": "LayoutModel",
            "_view_count": null,
            "_view_module": "@jupyter-widgets/base",
            "_view_module_version": "1.2.0",
            "_view_name": "LayoutView",
            "align_content": null,
            "align_items": null,
            "align_self": null,
            "border": null,
            "bottom": null,
            "display": null,
            "flex": null,
            "flex_flow": null,
            "grid_area": null,
            "grid_auto_columns": null,
            "grid_auto_flow": null,
            "grid_auto_rows": null,
            "grid_column": null,
            "grid_gap": null,
            "grid_row": null,
            "grid_template_areas": null,
            "grid_template_columns": null,
            "grid_template_rows": null,
            "height": null,
            "justify_content": null,
            "justify_items": null,
            "left": null,
            "margin": null,
            "max_height": null,
            "max_width": null,
            "min_height": null,
            "min_width": null,
            "object_fit": null,
            "object_position": null,
            "order": null,
            "overflow": null,
            "overflow_x": null,
            "overflow_y": null,
            "padding": null,
            "right": null,
            "top": null,
            "visibility": null,
            "width": null
          }
        },
        "ef82f64dd601463dabcac67368579e50": {
          "model_module": "@jupyter-widgets/base",
          "model_name": "LayoutModel",
          "model_module_version": "1.2.0",
          "state": {
            "_model_module": "@jupyter-widgets/base",
            "_model_module_version": "1.2.0",
            "_model_name": "LayoutModel",
            "_view_count": null,
            "_view_module": "@jupyter-widgets/base",
            "_view_module_version": "1.2.0",
            "_view_name": "LayoutView",
            "align_content": null,
            "align_items": null,
            "align_self": null,
            "border": null,
            "bottom": null,
            "display": null,
            "flex": null,
            "flex_flow": null,
            "grid_area": null,
            "grid_auto_columns": null,
            "grid_auto_flow": null,
            "grid_auto_rows": null,
            "grid_column": null,
            "grid_gap": null,
            "grid_row": null,
            "grid_template_areas": null,
            "grid_template_columns": null,
            "grid_template_rows": null,
            "height": null,
            "justify_content": null,
            "justify_items": null,
            "left": null,
            "margin": null,
            "max_height": null,
            "max_width": null,
            "min_height": null,
            "min_width": null,
            "object_fit": null,
            "object_position": null,
            "order": null,
            "overflow": null,
            "overflow_x": null,
            "overflow_y": null,
            "padding": null,
            "right": null,
            "top": null,
            "visibility": null,
            "width": null
          }
        },
        "3f68d2b0bdcd4c9489b1e660755bc338": {
          "model_module": "@jupyter-widgets/controls",
          "model_name": "DescriptionStyleModel",
          "model_module_version": "1.5.0",
          "state": {
            "_model_module": "@jupyter-widgets/controls",
            "_model_module_version": "1.5.0",
            "_model_name": "DescriptionStyleModel",
            "_view_count": null,
            "_view_module": "@jupyter-widgets/base",
            "_view_module_version": "1.2.0",
            "_view_name": "StyleView",
            "description_width": ""
          }
        },
        "19e61a69682b4a5faa6cf3f6db8af23c": {
          "model_module": "@jupyter-widgets/base",
          "model_name": "LayoutModel",
          "model_module_version": "1.2.0",
          "state": {
            "_model_module": "@jupyter-widgets/base",
            "_model_module_version": "1.2.0",
            "_model_name": "LayoutModel",
            "_view_count": null,
            "_view_module": "@jupyter-widgets/base",
            "_view_module_version": "1.2.0",
            "_view_name": "LayoutView",
            "align_content": null,
            "align_items": null,
            "align_self": null,
            "border": null,
            "bottom": null,
            "display": null,
            "flex": null,
            "flex_flow": null,
            "grid_area": null,
            "grid_auto_columns": null,
            "grid_auto_flow": null,
            "grid_auto_rows": null,
            "grid_column": null,
            "grid_gap": null,
            "grid_row": null,
            "grid_template_areas": null,
            "grid_template_columns": null,
            "grid_template_rows": null,
            "height": null,
            "justify_content": null,
            "justify_items": null,
            "left": null,
            "margin": null,
            "max_height": null,
            "max_width": null,
            "min_height": null,
            "min_width": null,
            "object_fit": null,
            "object_position": null,
            "order": null,
            "overflow": null,
            "overflow_x": null,
            "overflow_y": null,
            "padding": null,
            "right": null,
            "top": null,
            "visibility": null,
            "width": null
          }
        },
        "a04288084c1745c9a35a15efe0641ffa": {
          "model_module": "@jupyter-widgets/controls",
          "model_name": "ProgressStyleModel",
          "model_module_version": "1.5.0",
          "state": {
            "_model_module": "@jupyter-widgets/controls",
            "_model_module_version": "1.5.0",
            "_model_name": "ProgressStyleModel",
            "_view_count": null,
            "_view_module": "@jupyter-widgets/base",
            "_view_module_version": "1.2.0",
            "_view_name": "StyleView",
            "bar_color": null,
            "description_width": ""
          }
        },
        "9e5d051bd2794052add90832ba5b275c": {
          "model_module": "@jupyter-widgets/base",
          "model_name": "LayoutModel",
          "model_module_version": "1.2.0",
          "state": {
            "_model_module": "@jupyter-widgets/base",
            "_model_module_version": "1.2.0",
            "_model_name": "LayoutModel",
            "_view_count": null,
            "_view_module": "@jupyter-widgets/base",
            "_view_module_version": "1.2.0",
            "_view_name": "LayoutView",
            "align_content": null,
            "align_items": null,
            "align_self": null,
            "border": null,
            "bottom": null,
            "display": null,
            "flex": null,
            "flex_flow": null,
            "grid_area": null,
            "grid_auto_columns": null,
            "grid_auto_flow": null,
            "grid_auto_rows": null,
            "grid_column": null,
            "grid_gap": null,
            "grid_row": null,
            "grid_template_areas": null,
            "grid_template_columns": null,
            "grid_template_rows": null,
            "height": null,
            "justify_content": null,
            "justify_items": null,
            "left": null,
            "margin": null,
            "max_height": null,
            "max_width": null,
            "min_height": null,
            "min_width": null,
            "object_fit": null,
            "object_position": null,
            "order": null,
            "overflow": null,
            "overflow_x": null,
            "overflow_y": null,
            "padding": null,
            "right": null,
            "top": null,
            "visibility": null,
            "width": null
          }
        },
        "fdd6aab3401843bfbd459de4179a04ec": {
          "model_module": "@jupyter-widgets/controls",
          "model_name": "DescriptionStyleModel",
          "model_module_version": "1.5.0",
          "state": {
            "_model_module": "@jupyter-widgets/controls",
            "_model_module_version": "1.5.0",
            "_model_name": "DescriptionStyleModel",
            "_view_count": null,
            "_view_module": "@jupyter-widgets/base",
            "_view_module_version": "1.2.0",
            "_view_name": "StyleView",
            "description_width": ""
          }
        },
        "9356bfb623dc4da386bdee9f2564da81": {
          "model_module": "@jupyter-widgets/controls",
          "model_name": "HBoxModel",
          "model_module_version": "1.5.0",
          "state": {
            "_dom_classes": [],
            "_model_module": "@jupyter-widgets/controls",
            "_model_module_version": "1.5.0",
            "_model_name": "HBoxModel",
            "_view_count": null,
            "_view_module": "@jupyter-widgets/controls",
            "_view_module_version": "1.5.0",
            "_view_name": "HBoxView",
            "box_style": "",
            "children": [
              "IPY_MODEL_f1a9f866dd77486c9519857aa25906b8",
              "IPY_MODEL_0e5d1c18003b40509ea963c79df61071",
              "IPY_MODEL_eb53bffc87194cf5acb53ad8a5084b75"
            ],
            "layout": "IPY_MODEL_4f0cf086b788439ab7bb957893939a01"
          }
        },
        "f1a9f866dd77486c9519857aa25906b8": {
          "model_module": "@jupyter-widgets/controls",
          "model_name": "HTMLModel",
          "model_module_version": "1.5.0",
          "state": {
            "_dom_classes": [],
            "_model_module": "@jupyter-widgets/controls",
            "_model_module_version": "1.5.0",
            "_model_name": "HTMLModel",
            "_view_count": null,
            "_view_module": "@jupyter-widgets/controls",
            "_view_module_version": "1.5.0",
            "_view_name": "HTMLView",
            "description": "",
            "description_tooltip": null,
            "layout": "IPY_MODEL_b3f36f39af6e4ea1952657670033e2e2",
            "placeholder": "​",
            "style": "IPY_MODEL_32881922d2594a8caf46404305e81b6f",
            "value": "Downloading: 100%"
          }
        },
        "0e5d1c18003b40509ea963c79df61071": {
          "model_module": "@jupyter-widgets/controls",
          "model_name": "FloatProgressModel",
          "model_module_version": "1.5.0",
          "state": {
            "_dom_classes": [],
            "_model_module": "@jupyter-widgets/controls",
            "_model_module_version": "1.5.0",
            "_model_name": "FloatProgressModel",
            "_view_count": null,
            "_view_module": "@jupyter-widgets/controls",
            "_view_module_version": "1.5.0",
            "_view_name": "ProgressView",
            "bar_style": "success",
            "description": "",
            "description_tooltip": null,
            "layout": "IPY_MODEL_d5b2e788064e4877a928854a47bc8382",
            "max": 570,
            "min": 0,
            "orientation": "horizontal",
            "style": "IPY_MODEL_a64f6e47d26343148ef01074e166286e",
            "value": 570
          }
        },
        "eb53bffc87194cf5acb53ad8a5084b75": {
          "model_module": "@jupyter-widgets/controls",
          "model_name": "HTMLModel",
          "model_module_version": "1.5.0",
          "state": {
            "_dom_classes": [],
            "_model_module": "@jupyter-widgets/controls",
            "_model_module_version": "1.5.0",
            "_model_name": "HTMLModel",
            "_view_count": null,
            "_view_module": "@jupyter-widgets/controls",
            "_view_module_version": "1.5.0",
            "_view_name": "HTMLView",
            "description": "",
            "description_tooltip": null,
            "layout": "IPY_MODEL_299c07c395594b78b3a173ea71b48905",
            "placeholder": "​",
            "style": "IPY_MODEL_5e4e61286cd348bfbae577ff716aeb6e",
            "value": " 570/570 [00:00&lt;00:00, 5.99kB/s]"
          }
        },
        "4f0cf086b788439ab7bb957893939a01": {
          "model_module": "@jupyter-widgets/base",
          "model_name": "LayoutModel",
          "model_module_version": "1.2.0",
          "state": {
            "_model_module": "@jupyter-widgets/base",
            "_model_module_version": "1.2.0",
            "_model_name": "LayoutModel",
            "_view_count": null,
            "_view_module": "@jupyter-widgets/base",
            "_view_module_version": "1.2.0",
            "_view_name": "LayoutView",
            "align_content": null,
            "align_items": null,
            "align_self": null,
            "border": null,
            "bottom": null,
            "display": null,
            "flex": null,
            "flex_flow": null,
            "grid_area": null,
            "grid_auto_columns": null,
            "grid_auto_flow": null,
            "grid_auto_rows": null,
            "grid_column": null,
            "grid_gap": null,
            "grid_row": null,
            "grid_template_areas": null,
            "grid_template_columns": null,
            "grid_template_rows": null,
            "height": null,
            "justify_content": null,
            "justify_items": null,
            "left": null,
            "margin": null,
            "max_height": null,
            "max_width": null,
            "min_height": null,
            "min_width": null,
            "object_fit": null,
            "object_position": null,
            "order": null,
            "overflow": null,
            "overflow_x": null,
            "overflow_y": null,
            "padding": null,
            "right": null,
            "top": null,
            "visibility": null,
            "width": null
          }
        },
        "b3f36f39af6e4ea1952657670033e2e2": {
          "model_module": "@jupyter-widgets/base",
          "model_name": "LayoutModel",
          "model_module_version": "1.2.0",
          "state": {
            "_model_module": "@jupyter-widgets/base",
            "_model_module_version": "1.2.0",
            "_model_name": "LayoutModel",
            "_view_count": null,
            "_view_module": "@jupyter-widgets/base",
            "_view_module_version": "1.2.0",
            "_view_name": "LayoutView",
            "align_content": null,
            "align_items": null,
            "align_self": null,
            "border": null,
            "bottom": null,
            "display": null,
            "flex": null,
            "flex_flow": null,
            "grid_area": null,
            "grid_auto_columns": null,
            "grid_auto_flow": null,
            "grid_auto_rows": null,
            "grid_column": null,
            "grid_gap": null,
            "grid_row": null,
            "grid_template_areas": null,
            "grid_template_columns": null,
            "grid_template_rows": null,
            "height": null,
            "justify_content": null,
            "justify_items": null,
            "left": null,
            "margin": null,
            "max_height": null,
            "max_width": null,
            "min_height": null,
            "min_width": null,
            "object_fit": null,
            "object_position": null,
            "order": null,
            "overflow": null,
            "overflow_x": null,
            "overflow_y": null,
            "padding": null,
            "right": null,
            "top": null,
            "visibility": null,
            "width": null
          }
        },
        "32881922d2594a8caf46404305e81b6f": {
          "model_module": "@jupyter-widgets/controls",
          "model_name": "DescriptionStyleModel",
          "model_module_version": "1.5.0",
          "state": {
            "_model_module": "@jupyter-widgets/controls",
            "_model_module_version": "1.5.0",
            "_model_name": "DescriptionStyleModel",
            "_view_count": null,
            "_view_module": "@jupyter-widgets/base",
            "_view_module_version": "1.2.0",
            "_view_name": "StyleView",
            "description_width": ""
          }
        },
        "d5b2e788064e4877a928854a47bc8382": {
          "model_module": "@jupyter-widgets/base",
          "model_name": "LayoutModel",
          "model_module_version": "1.2.0",
          "state": {
            "_model_module": "@jupyter-widgets/base",
            "_model_module_version": "1.2.0",
            "_model_name": "LayoutModel",
            "_view_count": null,
            "_view_module": "@jupyter-widgets/base",
            "_view_module_version": "1.2.0",
            "_view_name": "LayoutView",
            "align_content": null,
            "align_items": null,
            "align_self": null,
            "border": null,
            "bottom": null,
            "display": null,
            "flex": null,
            "flex_flow": null,
            "grid_area": null,
            "grid_auto_columns": null,
            "grid_auto_flow": null,
            "grid_auto_rows": null,
            "grid_column": null,
            "grid_gap": null,
            "grid_row": null,
            "grid_template_areas": null,
            "grid_template_columns": null,
            "grid_template_rows": null,
            "height": null,
            "justify_content": null,
            "justify_items": null,
            "left": null,
            "margin": null,
            "max_height": null,
            "max_width": null,
            "min_height": null,
            "min_width": null,
            "object_fit": null,
            "object_position": null,
            "order": null,
            "overflow": null,
            "overflow_x": null,
            "overflow_y": null,
            "padding": null,
            "right": null,
            "top": null,
            "visibility": null,
            "width": null
          }
        },
        "a64f6e47d26343148ef01074e166286e": {
          "model_module": "@jupyter-widgets/controls",
          "model_name": "ProgressStyleModel",
          "model_module_version": "1.5.0",
          "state": {
            "_model_module": "@jupyter-widgets/controls",
            "_model_module_version": "1.5.0",
            "_model_name": "ProgressStyleModel",
            "_view_count": null,
            "_view_module": "@jupyter-widgets/base",
            "_view_module_version": "1.2.0",
            "_view_name": "StyleView",
            "bar_color": null,
            "description_width": ""
          }
        },
        "299c07c395594b78b3a173ea71b48905": {
          "model_module": "@jupyter-widgets/base",
          "model_name": "LayoutModel",
          "model_module_version": "1.2.0",
          "state": {
            "_model_module": "@jupyter-widgets/base",
            "_model_module_version": "1.2.0",
            "_model_name": "LayoutModel",
            "_view_count": null,
            "_view_module": "@jupyter-widgets/base",
            "_view_module_version": "1.2.0",
            "_view_name": "LayoutView",
            "align_content": null,
            "align_items": null,
            "align_self": null,
            "border": null,
            "bottom": null,
            "display": null,
            "flex": null,
            "flex_flow": null,
            "grid_area": null,
            "grid_auto_columns": null,
            "grid_auto_flow": null,
            "grid_auto_rows": null,
            "grid_column": null,
            "grid_gap": null,
            "grid_row": null,
            "grid_template_areas": null,
            "grid_template_columns": null,
            "grid_template_rows": null,
            "height": null,
            "justify_content": null,
            "justify_items": null,
            "left": null,
            "margin": null,
            "max_height": null,
            "max_width": null,
            "min_height": null,
            "min_width": null,
            "object_fit": null,
            "object_position": null,
            "order": null,
            "overflow": null,
            "overflow_x": null,
            "overflow_y": null,
            "padding": null,
            "right": null,
            "top": null,
            "visibility": null,
            "width": null
          }
        },
        "5e4e61286cd348bfbae577ff716aeb6e": {
          "model_module": "@jupyter-widgets/controls",
          "model_name": "DescriptionStyleModel",
          "model_module_version": "1.5.0",
          "state": {
            "_model_module": "@jupyter-widgets/controls",
            "_model_module_version": "1.5.0",
            "_model_name": "DescriptionStyleModel",
            "_view_count": null,
            "_view_module": "@jupyter-widgets/base",
            "_view_module_version": "1.2.0",
            "_view_name": "StyleView",
            "description_width": ""
          }
        },
        "29c527cbe43844a4a01855a91ac6957e": {
          "model_module": "@jupyter-widgets/controls",
          "model_name": "HBoxModel",
          "model_module_version": "1.5.0",
          "state": {
            "_dom_classes": [],
            "_model_module": "@jupyter-widgets/controls",
            "_model_module_version": "1.5.0",
            "_model_name": "HBoxModel",
            "_view_count": null,
            "_view_module": "@jupyter-widgets/controls",
            "_view_module_version": "1.5.0",
            "_view_name": "HBoxView",
            "box_style": "",
            "children": [
              "IPY_MODEL_d0c419c2433745569af0421b6a2c7926",
              "IPY_MODEL_bafece331d414db09205a9fe532f3e41",
              "IPY_MODEL_651e2320ac5c48c3a738cfc35431d2d9"
            ],
            "layout": "IPY_MODEL_42a1c02f49934580a0ab15d04683e3b7"
          }
        },
        "d0c419c2433745569af0421b6a2c7926": {
          "model_module": "@jupyter-widgets/controls",
          "model_name": "HTMLModel",
          "model_module_version": "1.5.0",
          "state": {
            "_dom_classes": [],
            "_model_module": "@jupyter-widgets/controls",
            "_model_module_version": "1.5.0",
            "_model_name": "HTMLModel",
            "_view_count": null,
            "_view_module": "@jupyter-widgets/controls",
            "_view_module_version": "1.5.0",
            "_view_name": "HTMLView",
            "description": "",
            "description_tooltip": null,
            "layout": "IPY_MODEL_6dc94aa6b3704118a2029b3491f658ec",
            "placeholder": "​",
            "style": "IPY_MODEL_7ce2f07029384a22b55e111be49b36e8",
            "value": "Downloading: 100%"
          }
        },
        "bafece331d414db09205a9fe532f3e41": {
          "model_module": "@jupyter-widgets/controls",
          "model_name": "FloatProgressModel",
          "model_module_version": "1.5.0",
          "state": {
            "_dom_classes": [],
            "_model_module": "@jupyter-widgets/controls",
            "_model_module_version": "1.5.0",
            "_model_name": "FloatProgressModel",
            "_view_count": null,
            "_view_module": "@jupyter-widgets/controls",
            "_view_module_version": "1.5.0",
            "_view_name": "ProgressView",
            "bar_style": "success",
            "description": "",
            "description_tooltip": null,
            "layout": "IPY_MODEL_1be86c404beb48ecbc7e244f1c33aad1",
            "max": 435779157,
            "min": 0,
            "orientation": "horizontal",
            "style": "IPY_MODEL_79b3b242814d4f0797323e0393370ea4",
            "value": 435779157
          }
        },
        "651e2320ac5c48c3a738cfc35431d2d9": {
          "model_module": "@jupyter-widgets/controls",
          "model_name": "HTMLModel",
          "model_module_version": "1.5.0",
          "state": {
            "_dom_classes": [],
            "_model_module": "@jupyter-widgets/controls",
            "_model_module_version": "1.5.0",
            "_model_name": "HTMLModel",
            "_view_count": null,
            "_view_module": "@jupyter-widgets/controls",
            "_view_module_version": "1.5.0",
            "_view_name": "HTMLView",
            "description": "",
            "description_tooltip": null,
            "layout": "IPY_MODEL_6b0ec2c8226a4ec8b05e78723c2d24d8",
            "placeholder": "​",
            "style": "IPY_MODEL_9cd83fde05394cbba002460a1ced73bb",
            "value": " 436M/436M [00:19&lt;00:00, 22.5MB/s]"
          }
        },
        "42a1c02f49934580a0ab15d04683e3b7": {
          "model_module": "@jupyter-widgets/base",
          "model_name": "LayoutModel",
          "model_module_version": "1.2.0",
          "state": {
            "_model_module": "@jupyter-widgets/base",
            "_model_module_version": "1.2.0",
            "_model_name": "LayoutModel",
            "_view_count": null,
            "_view_module": "@jupyter-widgets/base",
            "_view_module_version": "1.2.0",
            "_view_name": "LayoutView",
            "align_content": null,
            "align_items": null,
            "align_self": null,
            "border": null,
            "bottom": null,
            "display": null,
            "flex": null,
            "flex_flow": null,
            "grid_area": null,
            "grid_auto_columns": null,
            "grid_auto_flow": null,
            "grid_auto_rows": null,
            "grid_column": null,
            "grid_gap": null,
            "grid_row": null,
            "grid_template_areas": null,
            "grid_template_columns": null,
            "grid_template_rows": null,
            "height": null,
            "justify_content": null,
            "justify_items": null,
            "left": null,
            "margin": null,
            "max_height": null,
            "max_width": null,
            "min_height": null,
            "min_width": null,
            "object_fit": null,
            "object_position": null,
            "order": null,
            "overflow": null,
            "overflow_x": null,
            "overflow_y": null,
            "padding": null,
            "right": null,
            "top": null,
            "visibility": null,
            "width": null
          }
        },
        "6dc94aa6b3704118a2029b3491f658ec": {
          "model_module": "@jupyter-widgets/base",
          "model_name": "LayoutModel",
          "model_module_version": "1.2.0",
          "state": {
            "_model_module": "@jupyter-widgets/base",
            "_model_module_version": "1.2.0",
            "_model_name": "LayoutModel",
            "_view_count": null,
            "_view_module": "@jupyter-widgets/base",
            "_view_module_version": "1.2.0",
            "_view_name": "LayoutView",
            "align_content": null,
            "align_items": null,
            "align_self": null,
            "border": null,
            "bottom": null,
            "display": null,
            "flex": null,
            "flex_flow": null,
            "grid_area": null,
            "grid_auto_columns": null,
            "grid_auto_flow": null,
            "grid_auto_rows": null,
            "grid_column": null,
            "grid_gap": null,
            "grid_row": null,
            "grid_template_areas": null,
            "grid_template_columns": null,
            "grid_template_rows": null,
            "height": null,
            "justify_content": null,
            "justify_items": null,
            "left": null,
            "margin": null,
            "max_height": null,
            "max_width": null,
            "min_height": null,
            "min_width": null,
            "object_fit": null,
            "object_position": null,
            "order": null,
            "overflow": null,
            "overflow_x": null,
            "overflow_y": null,
            "padding": null,
            "right": null,
            "top": null,
            "visibility": null,
            "width": null
          }
        },
        "7ce2f07029384a22b55e111be49b36e8": {
          "model_module": "@jupyter-widgets/controls",
          "model_name": "DescriptionStyleModel",
          "model_module_version": "1.5.0",
          "state": {
            "_model_module": "@jupyter-widgets/controls",
            "_model_module_version": "1.5.0",
            "_model_name": "DescriptionStyleModel",
            "_view_count": null,
            "_view_module": "@jupyter-widgets/base",
            "_view_module_version": "1.2.0",
            "_view_name": "StyleView",
            "description_width": ""
          }
        },
        "1be86c404beb48ecbc7e244f1c33aad1": {
          "model_module": "@jupyter-widgets/base",
          "model_name": "LayoutModel",
          "model_module_version": "1.2.0",
          "state": {
            "_model_module": "@jupyter-widgets/base",
            "_model_module_version": "1.2.0",
            "_model_name": "LayoutModel",
            "_view_count": null,
            "_view_module": "@jupyter-widgets/base",
            "_view_module_version": "1.2.0",
            "_view_name": "LayoutView",
            "align_content": null,
            "align_items": null,
            "align_self": null,
            "border": null,
            "bottom": null,
            "display": null,
            "flex": null,
            "flex_flow": null,
            "grid_area": null,
            "grid_auto_columns": null,
            "grid_auto_flow": null,
            "grid_auto_rows": null,
            "grid_column": null,
            "grid_gap": null,
            "grid_row": null,
            "grid_template_areas": null,
            "grid_template_columns": null,
            "grid_template_rows": null,
            "height": null,
            "justify_content": null,
            "justify_items": null,
            "left": null,
            "margin": null,
            "max_height": null,
            "max_width": null,
            "min_height": null,
            "min_width": null,
            "object_fit": null,
            "object_position": null,
            "order": null,
            "overflow": null,
            "overflow_x": null,
            "overflow_y": null,
            "padding": null,
            "right": null,
            "top": null,
            "visibility": null,
            "width": null
          }
        },
        "79b3b242814d4f0797323e0393370ea4": {
          "model_module": "@jupyter-widgets/controls",
          "model_name": "ProgressStyleModel",
          "model_module_version": "1.5.0",
          "state": {
            "_model_module": "@jupyter-widgets/controls",
            "_model_module_version": "1.5.0",
            "_model_name": "ProgressStyleModel",
            "_view_count": null,
            "_view_module": "@jupyter-widgets/base",
            "_view_module_version": "1.2.0",
            "_view_name": "StyleView",
            "bar_color": null,
            "description_width": ""
          }
        },
        "6b0ec2c8226a4ec8b05e78723c2d24d8": {
          "model_module": "@jupyter-widgets/base",
          "model_name": "LayoutModel",
          "model_module_version": "1.2.0",
          "state": {
            "_model_module": "@jupyter-widgets/base",
            "_model_module_version": "1.2.0",
            "_model_name": "LayoutModel",
            "_view_count": null,
            "_view_module": "@jupyter-widgets/base",
            "_view_module_version": "1.2.0",
            "_view_name": "LayoutView",
            "align_content": null,
            "align_items": null,
            "align_self": null,
            "border": null,
            "bottom": null,
            "display": null,
            "flex": null,
            "flex_flow": null,
            "grid_area": null,
            "grid_auto_columns": null,
            "grid_auto_flow": null,
            "grid_auto_rows": null,
            "grid_column": null,
            "grid_gap": null,
            "grid_row": null,
            "grid_template_areas": null,
            "grid_template_columns": null,
            "grid_template_rows": null,
            "height": null,
            "justify_content": null,
            "justify_items": null,
            "left": null,
            "margin": null,
            "max_height": null,
            "max_width": null,
            "min_height": null,
            "min_width": null,
            "object_fit": null,
            "object_position": null,
            "order": null,
            "overflow": null,
            "overflow_x": null,
            "overflow_y": null,
            "padding": null,
            "right": null,
            "top": null,
            "visibility": null,
            "width": null
          }
        },
        "9cd83fde05394cbba002460a1ced73bb": {
          "model_module": "@jupyter-widgets/controls",
          "model_name": "DescriptionStyleModel",
          "model_module_version": "1.5.0",
          "state": {
            "_model_module": "@jupyter-widgets/controls",
            "_model_module_version": "1.5.0",
            "_model_name": "DescriptionStyleModel",
            "_view_count": null,
            "_view_module": "@jupyter-widgets/base",
            "_view_module_version": "1.2.0",
            "_view_name": "StyleView",
            "description_width": ""
          }
        }
      }
    },
    "gpuClass": "standard",
    "accelerator": "GPU"
  },
  "nbformat": 4,
  "nbformat_minor": 0
}